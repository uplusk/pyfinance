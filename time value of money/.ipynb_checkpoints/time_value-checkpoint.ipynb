{
 "cells": [
  {
   "cell_type": "code",
   "execution_count": 1,
   "metadata": {},
   "outputs": [],
   "source": [
    "import scipy"
   ]
  },
  {
   "cell_type": "code",
   "execution_count": 6,
   "metadata": {},
   "outputs": [
    {
     "name": "stdout",
     "output_type": "stream",
     "text": [
      "Help on function pv in module numpy.lib.financial:\n",
      "\n",
      "pv(rate, nper, pmt, fv=0, when='end')\n",
      "    Compute the present value.\n",
      "    \n",
      "    Given:\n",
      "     * a future value, `fv`\n",
      "     * an interest `rate` compounded once per period, of which\n",
      "       there are\n",
      "     * `nper` total\n",
      "     * a (fixed) payment, `pmt`, paid either\n",
      "     * at the beginning (`when` = {'begin', 1}) or the end\n",
      "       (`when` = {'end', 0}) of each period\n",
      "    \n",
      "    Return:\n",
      "       the value now\n",
      "    \n",
      "    Parameters\n",
      "    ----------\n",
      "    rate : array_like\n",
      "        Rate of interest (per period)\n",
      "    nper : array_like\n",
      "        Number of compounding periods\n",
      "    pmt : array_like\n",
      "        Payment\n",
      "    fv : array_like, optional\n",
      "        Future value\n",
      "    when : {{'begin', 1}, {'end', 0}}, {string, int}, optional\n",
      "        When payments are due ('begin' (1) or 'end' (0))\n",
      "    \n",
      "    Returns\n",
      "    -------\n",
      "    out : ndarray, float\n",
      "        Present value of a series of payments or investments.\n",
      "    \n",
      "    Notes\n",
      "    -----\n",
      "    The present value is computed by solving the equation::\n",
      "    \n",
      "     fv +\n",
      "     pv*(1 + rate)**nper +\n",
      "     pmt*(1 + rate*when)/rate*((1 + rate)**nper - 1) = 0\n",
      "    \n",
      "    or, when ``rate = 0``::\n",
      "    \n",
      "     fv + pv + pmt * nper = 0\n",
      "    \n",
      "    for `pv`, which is then returned.\n",
      "    \n",
      "    References\n",
      "    ----------\n",
      "    .. [WRW] Wheeler, D. A., E. Rathke, and R. Weir (Eds.) (2009, May).\n",
      "       Open Document Format for Office Applications (OpenDocument)v1.2,\n",
      "       Part 2: Recalculated Formula (OpenFormula) Format - Annotated Version,\n",
      "       Pre-Draft 12. Organization for the Advancement of Structured Information\n",
      "       Standards (OASIS). Billerica, MA, USA. [ODT Document].\n",
      "       Available:\n",
      "       http://www.oasis-open.org/committees/documents.php?wg_abbrev=office-formula\n",
      "       OpenDocument-formula-20090508.odt\n",
      "    \n",
      "    Examples\n",
      "    --------\n",
      "    What is the present value (e.g., the initial investment)\n",
      "    of an investment that needs to total $15692.93\n",
      "    after 10 years of saving $100 every month?  Assume the\n",
      "    interest rate is 5% (annually) compounded monthly.\n",
      "    \n",
      "    >>> np.pv(0.05/12, 10*12, -100, 15692.93)\n",
      "    -100.00067131625819\n",
      "    \n",
      "    By convention, the negative sign represents cash flow out\n",
      "    (i.e., money not available today).  Thus, to end up with\n",
      "    $15,692.93 in 10 years saving $100 a month at 5% annual\n",
      "    interest, one's initial deposit should also be $100.\n",
      "    \n",
      "    If any input is array_like, ``pv`` returns an array of equal shape.\n",
      "    Let's compare different interest rates in the example above:\n",
      "    \n",
      "    >>> a = np.array((0.05, 0.04, 0.03))/12\n",
      "    >>> np.pv(a, 10*12, -100, 15692.93)\n",
      "    array([ -100.00067132,  -649.26771385, -1273.78633713])\n",
      "    \n",
      "    So, to end up with the same $15692.93 under the same $100 per month\n",
      "    \"savings plan,\" for annual interest rates of 4% and 3%, one would\n",
      "    need initial investments of $649.27 and $1273.79, respectively.\n",
      "\n"
     ]
    }
   ],
   "source": [
    "help(scipy.pv)"
   ]
  },
  {
   "cell_type": "code",
   "execution_count": 5,
   "metadata": {},
   "outputs": [
    {
     "data": {
      "text/plain": [
       "15692.928894335748"
      ]
     },
     "execution_count": 5,
     "metadata": {},
     "output_type": "execute_result"
    }
   ],
   "source": [
    "fv = scipy.fv(0.05/12,10*12,-100,-100)\n",
    "fv"
   ]
  },
  {
   "cell_type": "code",
   "execution_count": null,
   "metadata": {},
   "outputs": [],
   "source": []
  }
 ],
 "metadata": {
  "kernelspec": {
   "display_name": "Python 3",
   "language": "python",
   "name": "python3"
  },
  "language_info": {
   "codemirror_mode": {
    "name": "ipython",
    "version": 3
   },
   "file_extension": ".py",
   "mimetype": "text/x-python",
   "name": "python",
   "nbconvert_exporter": "python",
   "pygments_lexer": "ipython3",
   "version": "3.6.5"
  }
 },
 "nbformat": 4,
 "nbformat_minor": 2
}
