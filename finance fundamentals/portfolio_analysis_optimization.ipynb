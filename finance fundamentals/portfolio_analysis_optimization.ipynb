{
 "cells": [
  {
   "cell_type": "code",
   "execution_count": 1,
   "metadata": {
    "collapsed": true
   },
   "outputs": [],
   "source": [
    "import numpy as np\n",
    "import pandas as pd\n",
    "import matplotlib.pyplot as plt\n",
    "%matplotlib inline"
   ]
  },
  {
   "cell_type": "code",
   "execution_count": 2,
   "metadata": {
    "collapsed": true
   },
   "outputs": [],
   "source": [
    "import quandl\n",
    "\n",
    "# set api key\n",
    "quandl.ApiConfig.api_key = \"sY8rR9LTz4kT5z2cs94v\""
   ]
  },
  {
   "cell_type": "markdown",
   "metadata": {},
   "source": [
    "Our portfolio consists of four stocks of different sectors - UPL(Agrochemicals), DHP(Industrial machinery), NOCIL(Petrochemicals), ADANIPO(Marine ports adn Logistics)"
   ]
  },
  {
   "cell_type": "code",
   "execution_count": 3,
   "metadata": {
    "collapsed": true
   },
   "outputs": [],
   "source": [
    "start_date = pd.to_datetime('2014-04-01')\n",
    "end_date = pd.to_datetime('2018-03-31')"
   ]
  },
  {
   "cell_type": "code",
   "execution_count": 36,
   "metadata": {
    "collapsed": true
   },
   "outputs": [],
   "source": [
    "upl = quandl.get('NSE/UPL.5',start_date=start_date,end_date=end_date)\n",
    "dhp = quandl.get('BSE/BOM531306.5',start_date=start_date,end_date=end_date)\n",
    "nocil = quandl.get('NSE/NOCIL.5',start_date=start_date,end_date=end_date)\n",
    "adanipo = quandl.get('NSE/ADANIPORTS.5',start_date=start_date,end_date=end_date)"
   ]
  },
  {
   "cell_type": "code",
   "execution_count": 5,
   "metadata": {},
   "outputs": [],
   "source": [
    "dhp.columns = ['Close']"
   ]
  },
  {
   "cell_type": "code",
   "execution_count": 6,
   "metadata": {
    "collapsed": true
   },
   "outputs": [],
   "source": [
    "portfolio = [upl,dhp,nocil,adanipo]\n",
    "for stock in portfolio:\n",
    "    stock['Normed Return'] = stock['Close']/stock.iloc[0]['Close']"
   ]
  },
  {
   "cell_type": "markdown",
   "metadata": {},
   "source": [
    "My allocation :\n",
    "    40% NOCIL ,\n",
    "    20% UPL , \n",
    "    20% DHP , \n",
    "    20% ADANIPO"
   ]
  },
  {
   "cell_type": "code",
   "execution_count": 7,
   "metadata": {
    "collapsed": true
   },
   "outputs": [],
   "source": [
    "for stock,allo in zip(portfolio,[.2,.2,.4,.2]):\n",
    "    stock['Allocation'] = stock['Normed Return']*allo"
   ]
  },
  {
   "cell_type": "markdown",
   "metadata": {},
   "source": [
    "My investment = 30,000"
   ]
  },
  {
   "cell_type": "code",
   "execution_count": 8,
   "metadata": {
    "collapsed": true
   },
   "outputs": [],
   "source": [
    "for stock in portfolio:\n",
    "    stock['Position'] = stock['Allocation']*30000"
   ]
  },
  {
   "cell_type": "code",
   "execution_count": 9,
   "metadata": {},
   "outputs": [
    {
     "data": {
      "text/plain": [
       "Date\n",
       "2014-04-01    6000.000000\n",
       "2014-04-02    5990.338164\n",
       "2014-04-03    5838.969404\n",
       "2014-04-04    5792.270531\n",
       "2014-04-07    5700.483092\n",
       "Name: Position, dtype: float64"
      ]
     },
     "execution_count": 9,
     "metadata": {},
     "output_type": "execute_result"
    }
   ],
   "source": [
    "adanipo['Position'].head()"
   ]
  },
  {
   "cell_type": "code",
   "execution_count": 10,
   "metadata": {
    "collapsed": true
   },
   "outputs": [],
   "source": [
    "portfolio_val = pd.concat([upl['Position'],dhp['Position'],nocil['Position'],adanipo['Position']],axis=1)\n",
    "portfolio_val.columns = ['UPL Position','DHP Position','NOCIL Position','ADANI Posiiton']"
   ]
  },
  {
   "cell_type": "code",
   "execution_count": 11,
   "metadata": {},
   "outputs": [
    {
     "data": {
      "text/html": [
       "<div>\n",
       "<style>\n",
       "    .dataframe thead tr:only-child th {\n",
       "        text-align: right;\n",
       "    }\n",
       "\n",
       "    .dataframe thead th {\n",
       "        text-align: left;\n",
       "    }\n",
       "\n",
       "    .dataframe tbody tr th {\n",
       "        vertical-align: top;\n",
       "    }\n",
       "</style>\n",
       "<table border=\"1\" class=\"dataframe\">\n",
       "  <thead>\n",
       "    <tr style=\"text-align: right;\">\n",
       "      <th></th>\n",
       "      <th>UPL Position</th>\n",
       "      <th>DHP Position</th>\n",
       "      <th>NOCIL Position</th>\n",
       "      <th>ADANI Posiiton</th>\n",
       "    </tr>\n",
       "    <tr>\n",
       "      <th>Date</th>\n",
       "      <th></th>\n",
       "      <th></th>\n",
       "      <th></th>\n",
       "      <th></th>\n",
       "    </tr>\n",
       "  </thead>\n",
       "  <tbody>\n",
       "    <tr>\n",
       "      <th>2014-04-01</th>\n",
       "      <td>6000.000000</td>\n",
       "      <td>6000.000000</td>\n",
       "      <td>12000.000000</td>\n",
       "      <td>6000.000000</td>\n",
       "    </tr>\n",
       "    <tr>\n",
       "      <th>2014-04-02</th>\n",
       "      <td>6000.000000</td>\n",
       "      <td>6044.157119</td>\n",
       "      <td>12467.532468</td>\n",
       "      <td>5990.338164</td>\n",
       "    </tr>\n",
       "    <tr>\n",
       "      <th>2014-04-03</th>\n",
       "      <td>6250.583658</td>\n",
       "      <td>6214.242579</td>\n",
       "      <td>12584.415584</td>\n",
       "      <td>5838.969404</td>\n",
       "    </tr>\n",
       "    <tr>\n",
       "      <th>2014-04-04</th>\n",
       "      <td>6306.614786</td>\n",
       "      <td>6236.134526</td>\n",
       "      <td>13285.714286</td>\n",
       "      <td>5792.270531</td>\n",
       "    </tr>\n",
       "    <tr>\n",
       "      <th>2014-04-07</th>\n",
       "      <td>6297.276265</td>\n",
       "      <td>6407.834425</td>\n",
       "      <td>14025.974026</td>\n",
       "      <td>5700.483092</td>\n",
       "    </tr>\n",
       "  </tbody>\n",
       "</table>\n",
       "</div>"
      ],
      "text/plain": [
       "            UPL Position  DHP Position  NOCIL Position  ADANI Posiiton\n",
       "Date                                                                  \n",
       "2014-04-01   6000.000000   6000.000000    12000.000000     6000.000000\n",
       "2014-04-02   6000.000000   6044.157119    12467.532468     5990.338164\n",
       "2014-04-03   6250.583658   6214.242579    12584.415584     5838.969404\n",
       "2014-04-04   6306.614786   6236.134526    13285.714286     5792.270531\n",
       "2014-04-07   6297.276265   6407.834425    14025.974026     5700.483092"
      ]
     },
     "execution_count": 11,
     "metadata": {},
     "output_type": "execute_result"
    }
   ],
   "source": [
    "portfolio_val.head()"
   ]
  },
  {
   "cell_type": "code",
   "execution_count": 12,
   "metadata": {
    "collapsed": true
   },
   "outputs": [],
   "source": [
    "portfolio_val['Total Postition'] = portfolio_val.sum(axis=1)"
   ]
  },
  {
   "cell_type": "code",
   "execution_count": 13,
   "metadata": {},
   "outputs": [
    {
     "data": {
      "text/plain": [
       "<matplotlib.axes._subplots.AxesSubplot at 0x2513518ad30>"
      ]
     },
     "execution_count": 13,
     "metadata": {},
     "output_type": "execute_result"
    },
    {
     "data": {
      "image/png": "[encoded data removed]",
      "text/plain": [
       "<matplotlib.figure.Figure at 0x2513518a780>"
      ]
     },
     "metadata": {},
     "output_type": "display_data"
    }
   ],
   "source": [
    "portfolio_val['Total Postition'].plot(figsize=(12,8))"
   ]
  },
  {
   "cell_type": "code",
   "execution_count": 14,
   "metadata": {},
   "outputs": [
    {
     "data": {
      "text/html": [
       "<div>\n",
       "<style>\n",
       "    .dataframe thead tr:only-child th {\n",
       "        text-align: right;\n",
       "    }\n",
       "\n",
       "    .dataframe thead th {\n",
       "        text-align: left;\n",
       "    }\n",
       "\n",
       "    .dataframe tbody tr th {\n",
       "        vertical-align: top;\n",
       "    }\n",
       "</style>\n",
       "<table border=\"1\" class=\"dataframe\">\n",
       "  <thead>\n",
       "    <tr style=\"text-align: right;\">\n",
       "      <th></th>\n",
       "      <th>UPL Position</th>\n",
       "      <th>DHP Position</th>\n",
       "      <th>NOCIL Position</th>\n",
       "      <th>ADANI Posiiton</th>\n",
       "      <th>Total Postition</th>\n",
       "    </tr>\n",
       "    <tr>\n",
       "      <th>Date</th>\n",
       "      <th></th>\n",
       "      <th></th>\n",
       "      <th></th>\n",
       "      <th></th>\n",
       "      <th></th>\n",
       "    </tr>\n",
       "  </thead>\n",
       "  <tbody>\n",
       "    <tr>\n",
       "      <th>2018-03-22</th>\n",
       "      <td>22315.953307</td>\n",
       "      <td>58884.039289</td>\n",
       "      <td>152922.077922</td>\n",
       "      <td>11537.842190</td>\n",
       "      <td>245659.912708</td>\n",
       "    </tr>\n",
       "    <tr>\n",
       "      <th>2018-03-23</th>\n",
       "      <td>21937.743191</td>\n",
       "      <td>57981.956969</td>\n",
       "      <td>146766.233766</td>\n",
       "      <td>11671.497585</td>\n",
       "      <td>238357.431511</td>\n",
       "    </tr>\n",
       "    <tr>\n",
       "      <th>2018-03-26</th>\n",
       "      <td>22549.416342</td>\n",
       "      <td>58857.058934</td>\n",
       "      <td>150389.610390</td>\n",
       "      <td>11760.064412</td>\n",
       "      <td>243556.150078</td>\n",
       "    </tr>\n",
       "    <tr>\n",
       "      <th>2018-03-27</th>\n",
       "      <td>22935.408560</td>\n",
       "      <td>59129.208606</td>\n",
       "      <td>151012.987013</td>\n",
       "      <td>11771.336554</td>\n",
       "      <td>244848.940733</td>\n",
       "    </tr>\n",
       "    <tr>\n",
       "      <th>2018-03-28</th>\n",
       "      <td>22731.517510</td>\n",
       "      <td>58604.851263</td>\n",
       "      <td>149493.506494</td>\n",
       "      <td>11404.186795</td>\n",
       "      <td>242234.062062</td>\n",
       "    </tr>\n",
       "  </tbody>\n",
       "</table>\n",
       "</div>"
      ],
      "text/plain": [
       "            UPL Position  DHP Position  NOCIL Position  ADANI Posiiton  \\\n",
       "Date                                                                     \n",
       "2018-03-22  22315.953307  58884.039289   152922.077922    11537.842190   \n",
       "2018-03-23  21937.743191  57981.956969   146766.233766    11671.497585   \n",
       "2018-03-26  22549.416342  58857.058934   150389.610390    11760.064412   \n",
       "2018-03-27  22935.408560  59129.208606   151012.987013    11771.336554   \n",
       "2018-03-28  22731.517510  58604.851263   149493.506494    11404.186795   \n",
       "\n",
       "            Total Postition  \n",
       "Date                         \n",
       "2018-03-22    245659.912708  \n",
       "2018-03-23    238357.431511  \n",
       "2018-03-26    243556.150078  \n",
       "2018-03-27    244848.940733  \n",
       "2018-03-28    242234.062062  "
      ]
     },
     "execution_count": 14,
     "metadata": {},
     "output_type": "execute_result"
    }
   ],
   "source": [
    "portfolio_val.tail()"
   ]
  },
  {
   "cell_type": "markdown",
   "metadata": {},
   "source": [
    "Lets check out our stats and then calculate the sharpe ratio with this allocation that is genius"
   ]
  },
  {
   "cell_type": "code",
   "execution_count": 23,
   "metadata": {},
   "outputs": [
    {
     "data": {
      "text/plain": [
       "Date\n",
       "2014-04-01         NaN\n",
       "2014-04-02    0.016734\n",
       "2014-04-03    0.012661\n",
       "2014-04-04    0.023715\n",
       "2014-04-07    0.025642\n",
       "2014-04-09    0.009019\n",
       "2014-04-10    0.015785\n",
       "2014-04-11    0.016406\n",
       "2014-04-15    0.002493\n",
       "2014-04-16   -0.018301\n",
       "2014-04-17    0.015645\n",
       "2014-04-21    0.036975\n",
       "2014-04-22   -0.000202\n",
       "2014-04-23    0.013833\n",
       "2014-04-25    0.001965\n",
       "2014-04-28    0.026260\n",
       "2014-04-29    0.011512\n",
       "2014-04-30   -0.014609\n",
       "2014-05-02   -0.013388\n",
       "2014-05-05   -0.001945\n",
       "2014-05-06    0.031990\n",
       "2014-05-07   -0.001581\n",
       "2014-05-08   -0.023633\n",
       "2014-05-09    0.018592\n",
       "2014-05-12    0.003704\n",
       "2014-05-13    0.040412\n",
       "2014-05-14    0.005517\n",
       "2014-05-15   -0.001975\n",
       "2014-05-16    0.024013\n",
       "2014-05-19    0.062702\n",
       "                ...   \n",
       "2018-02-14   -0.003761\n",
       "2018-02-15   -0.030650\n",
       "2018-02-16   -0.015450\n",
       "2018-02-19   -0.012118\n",
       "2018-02-20   -0.004782\n",
       "2018-02-21   -0.003802\n",
       "2018-02-22   -0.012782\n",
       "2018-02-23    0.009956\n",
       "2018-02-26    0.012638\n",
       "2018-02-27   -0.006916\n",
       "2018-02-28    0.024635\n",
       "2018-03-01    0.034398\n",
       "2018-03-05   -0.007831\n",
       "2018-03-06   -0.009569\n",
       "2018-03-07   -0.034950\n",
       "2018-03-08   -0.000122\n",
       "2018-03-09    0.006971\n",
       "2018-03-12    0.008841\n",
       "2018-03-13    0.018988\n",
       "2018-03-14    0.001742\n",
       "2018-03-15    0.018587\n",
       "2018-03-16    0.000239\n",
       "2018-03-19   -0.032207\n",
       "2018-03-20   -0.002064\n",
       "2018-03-21    0.007917\n",
       "2018-03-22   -0.006396\n",
       "2018-03-23   -0.029726\n",
       "2018-03-26    0.021811\n",
       "2018-03-27    0.005308\n",
       "2018-03-28   -0.010680\n",
       "Name: Daily Ret, Length: 984, dtype: float64"
      ]
     },
     "execution_count": 23,
     "metadata": {},
     "output_type": "execute_result"
    }
   ],
   "source": [
    "portfolio_val['Daily Ret'] = portfolio_val['Total Postition'].pct_change(1)\n",
    "portfolio_val['Daily Ret']"
   ]
  },
  {
   "cell_type": "code",
   "execution_count": 16,
   "metadata": {},
   "outputs": [
    {
     "data": {
      "text/plain": [
       "707.44687353844142"
      ]
     },
     "execution_count": 16,
     "metadata": {},
     "output_type": "execute_result"
    }
   ],
   "source": [
    "cum_ret = 100*(portfolio_val['Total Postition'][-1]/portfolio_val['Total Postition'][0]-1)\n",
    "cum_ret"
   ]
  },
  {
   "cell_type": "code",
   "execution_count": 30,
   "metadata": {},
   "outputs": [
    {
     "data": {
      "text/plain": [
       "0.5904691513059287"
      ]
     },
     "execution_count": 30,
     "metadata": {},
     "output_type": "execute_result"
    }
   ],
   "source": [
    "avg_daily_return = portfolio_val['Daily Ret'].mean()*252\n",
    "avg_daily_return"
   ]
  },
  {
   "cell_type": "code",
   "execution_count": 33,
   "metadata": {},
   "outputs": [
    {
     "data": {
      "text/plain": [
       "5.241908172344912"
      ]
     },
     "execution_count": 33,
     "metadata": {},
     "output_type": "execute_result"
    }
   ],
   "source": [
    "avg_std = portfolio_val['Daily Ret'].std()*252\n",
    "avg_std"
   ]
  },
  {
   "cell_type": "code",
   "execution_count": 19,
   "metadata": {},
   "outputs": [
    {
     "data": {
      "text/plain": [
       "<matplotlib.axes._subplots.AxesSubplot at 0x2513516f470>"
      ]
     },
     "execution_count": 19,
     "metadata": {},
     "output_type": "execute_result"
    },
    {
     "data": {
      "image/png": "[encoded data removed]",
      "text/plain": [
       "<matplotlib.figure.Figure at 0x25135243e48>"
      ]
     },
     "metadata": {},
     "output_type": "display_data"
    }
   ],
   "source": [
    "portfolio_val['Daily Ret'].plot(kind='kde')"
   ]
  },
  {
   "cell_type": "code",
   "execution_count": 34,
   "metadata": {},
   "outputs": [
    {
     "data": {
      "text/plain": [
       "0.10119771920167556"
      ]
     },
     "execution_count": 34,
     "metadata": {},
     "output_type": "execute_result"
    }
   ],
   "source": [
    "rf_ind = 0.06\n",
    "sharpe_ratio = (avg_daily_return-rf_ind)/avg_std\n",
    "sharpe_ratio"
   ]
  },
  {
   "cell_type": "code",
   "execution_count": 35,
   "metadata": {},
   "outputs": [
    {
     "data": {
      "text/plain": [
       "1.6064639895274764"
      ]
     },
     "execution_count": 35,
     "metadata": {},
     "output_type": "execute_result"
    }
   ],
   "source": [
    "ASR = (252**0.5)*sharpe_ratio\n",
    "ASR"
   ]
  },
  {
   "cell_type": "markdown",
   "metadata": {},
   "source": [
    "Hmmm, Will have to look into this, although our portfolio has grown a mammoth 700 percent, The sharpe ratio is negative! Could it \n",
    "be the volatility?"
   ]
  },
  {
   "cell_type": "code",
   "execution_count": null,
   "metadata": {
    "collapsed": true
   },
   "outputs": [],
   "source": []
  },
  {
   "cell_type": "code",
   "execution_count": 37,
   "metadata": {},
   "outputs": [],
   "source": [
    "portfolio = pd.concat([upl,dhp,nocil,adanipo],axis=1)\n",
    "portfolio.columns = ['UPL','DHP','NOCIL','ADANI']"
   ]
  },
  {
   "cell_type": "code",
   "execution_count": 38,
   "metadata": {},
   "outputs": [
    {
     "data": {
      "text/html": [
       "<div>\n",
       "<style>\n",
       "    .dataframe thead tr:only-child th {\n",
       "        text-align: right;\n",
       "    }\n",
       "\n",
       "    .dataframe thead th {\n",
       "        text-align: left;\n",
       "    }\n",
       "\n",
       "    .dataframe tbody tr th {\n",
       "        vertical-align: top;\n",
       "    }\n",
       "</style>\n",
       "<table border=\"1\" class=\"dataframe\">\n",
       "  <thead>\n",
       "    <tr style=\"text-align: right;\">\n",
       "      <th></th>\n",
       "      <th>UPL</th>\n",
       "      <th>DHP</th>\n",
       "      <th>NOCIL</th>\n",
       "      <th>ADANI</th>\n",
       "    </tr>\n",
       "    <tr>\n",
       "      <th>Date</th>\n",
       "      <th></th>\n",
       "      <th></th>\n",
       "      <th></th>\n",
       "      <th></th>\n",
       "    </tr>\n",
       "  </thead>\n",
       "  <tbody>\n",
       "    <tr>\n",
       "      <th>2014-04-01</th>\n",
       "      <td>192.75</td>\n",
       "      <td>51.148325</td>\n",
       "      <td>15.40</td>\n",
       "      <td>186.30</td>\n",
       "    </tr>\n",
       "    <tr>\n",
       "      <th>2014-04-02</th>\n",
       "      <td>192.75</td>\n",
       "      <td>51.524752</td>\n",
       "      <td>16.00</td>\n",
       "      <td>186.00</td>\n",
       "    </tr>\n",
       "    <tr>\n",
       "      <th>2014-04-03</th>\n",
       "      <td>200.80</td>\n",
       "      <td>52.974684</td>\n",
       "      <td>16.15</td>\n",
       "      <td>181.30</td>\n",
       "    </tr>\n",
       "    <tr>\n",
       "      <th>2014-04-04</th>\n",
       "      <td>202.60</td>\n",
       "      <td>53.161306</td>\n",
       "      <td>17.05</td>\n",
       "      <td>179.85</td>\n",
       "    </tr>\n",
       "    <tr>\n",
       "      <th>2014-04-07</th>\n",
       "      <td>202.30</td>\n",
       "      <td>54.625000</td>\n",
       "      <td>18.00</td>\n",
       "      <td>177.00</td>\n",
       "    </tr>\n",
       "  </tbody>\n",
       "</table>\n",
       "</div>"
      ],
      "text/plain": [
       "               UPL        DHP  NOCIL   ADANI\n",
       "Date                                        \n",
       "2014-04-01  192.75  51.148325  15.40  186.30\n",
       "2014-04-02  192.75  51.524752  16.00  186.00\n",
       "2014-04-03  200.80  52.974684  16.15  181.30\n",
       "2014-04-04  202.60  53.161306  17.05  179.85\n",
       "2014-04-07  202.30  54.625000  18.00  177.00"
      ]
     },
     "execution_count": 38,
     "metadata": {},
     "output_type": "execute_result"
    }
   ],
   "source": [
    "portfolio.head()"
   ]
  },
  {
   "cell_type": "code",
   "execution_count": 41,
   "metadata": {},
   "outputs": [
    {
     "data": {
      "text/html": [
       "<div>\n",
       "<style>\n",
       "    .dataframe thead tr:only-child th {\n",
       "        text-align: right;\n",
       "    }\n",
       "\n",
       "    .dataframe thead th {\n",
       "        text-align: left;\n",
       "    }\n",
       "\n",
       "    .dataframe tbody tr th {\n",
       "        vertical-align: top;\n",
       "    }\n",
       "</style>\n",
       "<table border=\"1\" class=\"dataframe\">\n",
       "  <thead>\n",
       "    <tr style=\"text-align: right;\">\n",
       "      <th></th>\n",
       "      <th>UPL</th>\n",
       "      <th>DHP</th>\n",
       "      <th>NOCIL</th>\n",
       "      <th>ADANI</th>\n",
       "    </tr>\n",
       "    <tr>\n",
       "      <th>Date</th>\n",
       "      <th></th>\n",
       "      <th></th>\n",
       "      <th></th>\n",
       "      <th></th>\n",
       "    </tr>\n",
       "  </thead>\n",
       "  <tbody>\n",
       "    <tr>\n",
       "      <th>2014-04-01</th>\n",
       "      <td>NaN</td>\n",
       "      <td>NaN</td>\n",
       "      <td>NaN</td>\n",
       "      <td>NaN</td>\n",
       "    </tr>\n",
       "    <tr>\n",
       "      <th>2014-04-02</th>\n",
       "      <td>0.000000</td>\n",
       "      <td>0.007333</td>\n",
       "      <td>0.038221</td>\n",
       "      <td>-0.001612</td>\n",
       "    </tr>\n",
       "    <tr>\n",
       "      <th>2014-04-03</th>\n",
       "      <td>0.040915</td>\n",
       "      <td>0.027752</td>\n",
       "      <td>0.009331</td>\n",
       "      <td>-0.025594</td>\n",
       "    </tr>\n",
       "    <tr>\n",
       "      <th>2014-04-04</th>\n",
       "      <td>0.008924</td>\n",
       "      <td>0.003517</td>\n",
       "      <td>0.054230</td>\n",
       "      <td>-0.008030</td>\n",
       "    </tr>\n",
       "    <tr>\n",
       "      <th>2014-04-07</th>\n",
       "      <td>-0.001482</td>\n",
       "      <td>0.027161</td>\n",
       "      <td>0.054222</td>\n",
       "      <td>-0.015973</td>\n",
       "    </tr>\n",
       "    <tr>\n",
       "      <th>2014-04-09</th>\n",
       "      <td>0.008858</td>\n",
       "      <td>0.028400</td>\n",
       "      <td>-0.011173</td>\n",
       "      <td>0.035792</td>\n",
       "    </tr>\n",
       "    <tr>\n",
       "      <th>2014-04-10</th>\n",
       "      <td>0.039861</td>\n",
       "      <td>0.016018</td>\n",
       "      <td>-0.011300</td>\n",
       "      <td>0.050748</td>\n",
       "    </tr>\n",
       "    <tr>\n",
       "      <th>2014-04-11</th>\n",
       "      <td>0.020504</td>\n",
       "      <td>0.016980</td>\n",
       "      <td>0.019691</td>\n",
       "      <td>0.003362</td>\n",
       "    </tr>\n",
       "    <tr>\n",
       "      <th>2014-04-15</th>\n",
       "      <td>0.019414</td>\n",
       "      <td>0.024084</td>\n",
       "      <td>0.000000</td>\n",
       "      <td>-0.034944</td>\n",
       "    </tr>\n",
       "    <tr>\n",
       "      <th>2014-04-16</th>\n",
       "      <td>-0.031012</td>\n",
       "      <td>0.003422</td>\n",
       "      <td>-0.048512</td>\n",
       "      <td>0.037265</td>\n",
       "    </tr>\n",
       "    <tr>\n",
       "      <th>2014-04-17</th>\n",
       "      <td>0.003261</td>\n",
       "      <td>0.006866</td>\n",
       "      <td>0.023122</td>\n",
       "      <td>0.021912</td>\n",
       "    </tr>\n",
       "    <tr>\n",
       "      <th>2014-04-21</th>\n",
       "      <td>0.018890</td>\n",
       "      <td>0.022640</td>\n",
       "      <td>0.055570</td>\n",
       "      <td>0.027835</td>\n",
       "    </tr>\n",
       "    <tr>\n",
       "      <th>2014-04-22</th>\n",
       "      <td>-0.002742</td>\n",
       "      <td>0.019450</td>\n",
       "      <td>-0.010870</td>\n",
       "      <td>0.003914</td>\n",
       "    </tr>\n",
       "    <tr>\n",
       "      <th>2014-04-23</th>\n",
       "      <td>-0.017544</td>\n",
       "      <td>0.019701</td>\n",
       "      <td>0.032261</td>\n",
       "      <td>-0.001710</td>\n",
       "    </tr>\n",
       "    <tr>\n",
       "      <th>2014-04-25</th>\n",
       "      <td>0.070358</td>\n",
       "      <td>0.005383</td>\n",
       "      <td>-0.018692</td>\n",
       "      <td>-0.028527</td>\n",
       "    </tr>\n",
       "    <tr>\n",
       "      <th>2014-04-28</th>\n",
       "      <td>0.182973</td>\n",
       "      <td>-0.002928</td>\n",
       "      <td>-0.019048</td>\n",
       "      <td>-0.033520</td>\n",
       "    </tr>\n",
       "    <tr>\n",
       "      <th>2014-04-29</th>\n",
       "      <td>-0.005256</td>\n",
       "      <td>0.007431</td>\n",
       "      <td>0.029772</td>\n",
       "      <td>-0.003127</td>\n",
       "    </tr>\n",
       "    <tr>\n",
       "      <th>2014-04-30</th>\n",
       "      <td>-0.025956</td>\n",
       "      <td>-0.023111</td>\n",
       "      <td>-0.002670</td>\n",
       "      <td>-0.017644</td>\n",
       "    </tr>\n",
       "    <tr>\n",
       "      <th>2014-05-02</th>\n",
       "      <td>0.043251</td>\n",
       "      <td>-0.016058</td>\n",
       "      <td>-0.046520</td>\n",
       "      <td>-0.012565</td>\n",
       "    </tr>\n",
       "    <tr>\n",
       "      <th>2014-05-05</th>\n",
       "      <td>-0.003937</td>\n",
       "      <td>-0.027533</td>\n",
       "      <td>0.011142</td>\n",
       "      <td>0.001076</td>\n",
       "    </tr>\n",
       "    <tr>\n",
       "      <th>2014-05-06</th>\n",
       "      <td>0.001254</td>\n",
       "      <td>0.004405</td>\n",
       "      <td>0.061765</td>\n",
       "      <td>0.034081</td>\n",
       "    </tr>\n",
       "    <tr>\n",
       "      <th>2014-05-07</th>\n",
       "      <td>0.012635</td>\n",
       "      <td>0.017058</td>\n",
       "      <td>-0.013106</td>\n",
       "      <td>-0.015707</td>\n",
       "    </tr>\n",
       "    <tr>\n",
       "      <th>2014-05-08</th>\n",
       "      <td>-0.042998</td>\n",
       "      <td>0.002897</td>\n",
       "      <td>-0.037639</td>\n",
       "      <td>0.003687</td>\n",
       "    </tr>\n",
       "    <tr>\n",
       "      <th>2014-05-09</th>\n",
       "      <td>0.019922</td>\n",
       "      <td>0.004589</td>\n",
       "      <td>0.000000</td>\n",
       "      <td>0.073469</td>\n",
       "    </tr>\n",
       "    <tr>\n",
       "      <th>2014-05-12</th>\n",
       "      <td>-0.022695</td>\n",
       "      <td>0.064755</td>\n",
       "      <td>-0.011019</td>\n",
       "      <td>-0.000489</td>\n",
       "    </tr>\n",
       "    <tr>\n",
       "      <th>2014-05-13</th>\n",
       "      <td>0.017615</td>\n",
       "      <td>0.048525</td>\n",
       "      <td>0.021919</td>\n",
       "      <td>0.092819</td>\n",
       "    </tr>\n",
       "    <tr>\n",
       "      <th>2014-05-14</th>\n",
       "      <td>0.009954</td>\n",
       "      <td>0.048355</td>\n",
       "      <td>-0.002714</td>\n",
       "      <td>-0.033748</td>\n",
       "    </tr>\n",
       "    <tr>\n",
       "      <th>2014-05-15</th>\n",
       "      <td>-0.021479</td>\n",
       "      <td>0.048730</td>\n",
       "      <td>-0.030347</td>\n",
       "      <td>0.015316</td>\n",
       "    </tr>\n",
       "    <tr>\n",
       "      <th>2014-05-16</th>\n",
       "      <td>0.047080</td>\n",
       "      <td>0.048325</td>\n",
       "      <td>-0.005618</td>\n",
       "      <td>0.020656</td>\n",
       "    </tr>\n",
       "    <tr>\n",
       "      <th>2014-05-19</th>\n",
       "      <td>0.071459</td>\n",
       "      <td>0.048464</td>\n",
       "      <td>0.078525</td>\n",
       "      <td>0.029127</td>\n",
       "    </tr>\n",
       "    <tr>\n",
       "      <th>...</th>\n",
       "      <td>...</td>\n",
       "      <td>...</td>\n",
       "      <td>...</td>\n",
       "      <td>...</td>\n",
       "    </tr>\n",
       "    <tr>\n",
       "      <th>2018-02-14</th>\n",
       "      <td>-0.006352</td>\n",
       "      <td>-0.024948</td>\n",
       "      <td>0.003281</td>\n",
       "      <td>0.023643</td>\n",
       "    </tr>\n",
       "    <tr>\n",
       "      <th>2018-02-15</th>\n",
       "      <td>-0.008067</td>\n",
       "      <td>0.010119</td>\n",
       "      <td>-0.054893</td>\n",
       "      <td>-0.003153</td>\n",
       "    </tr>\n",
       "    <tr>\n",
       "      <th>2018-02-16</th>\n",
       "      <td>-0.017610</td>\n",
       "      <td>-0.038177</td>\n",
       "      <td>-0.005338</td>\n",
       "      <td>-0.015297</td>\n",
       "    </tr>\n",
       "    <tr>\n",
       "      <th>2018-02-19</th>\n",
       "      <td>-0.003274</td>\n",
       "      <td>-0.011399</td>\n",
       "      <td>-0.012386</td>\n",
       "      <td>-0.029027</td>\n",
       "    </tr>\n",
       "    <tr>\n",
       "      <th>2018-02-20</th>\n",
       "      <td>-0.008520</td>\n",
       "      <td>-0.010464</td>\n",
       "      <td>-0.002441</td>\n",
       "      <td>0.002662</td>\n",
       "    </tr>\n",
       "    <tr>\n",
       "      <th>2018-02-21</th>\n",
       "      <td>-0.010263</td>\n",
       "      <td>-0.008424</td>\n",
       "      <td>-0.001359</td>\n",
       "      <td>0.001771</td>\n",
       "    </tr>\n",
       "    <tr>\n",
       "      <th>2018-02-22</th>\n",
       "      <td>-0.018773</td>\n",
       "      <td>-0.019291</td>\n",
       "      <td>-0.012314</td>\n",
       "      <td>0.021011</td>\n",
       "    </tr>\n",
       "    <tr>\n",
       "      <th>2018-02-23</th>\n",
       "      <td>0.036487</td>\n",
       "      <td>-0.009748</td>\n",
       "      <td>0.014487</td>\n",
       "      <td>0.006169</td>\n",
       "    </tr>\n",
       "    <tr>\n",
       "      <th>2018-02-26</th>\n",
       "      <td>0.028080</td>\n",
       "      <td>0.000099</td>\n",
       "      <td>0.014548</td>\n",
       "      <td>0.020815</td>\n",
       "    </tr>\n",
       "    <tr>\n",
       "      <th>2018-02-27</th>\n",
       "      <td>0.000902</td>\n",
       "      <td>-0.013519</td>\n",
       "      <td>-0.005095</td>\n",
       "      <td>-0.011145</td>\n",
       "    </tr>\n",
       "    <tr>\n",
       "      <th>2018-02-28</th>\n",
       "      <td>0.010484</td>\n",
       "      <td>-0.013440</td>\n",
       "      <td>0.043914</td>\n",
       "      <td>-0.005129</td>\n",
       "    </tr>\n",
       "    <tr>\n",
       "      <th>2018-03-01</th>\n",
       "      <td>-0.020098</td>\n",
       "      <td>-0.008905</td>\n",
       "      <td>0.060640</td>\n",
       "      <td>-0.005525</td>\n",
       "    </tr>\n",
       "    <tr>\n",
       "      <th>2018-03-05</th>\n",
       "      <td>0.009267</td>\n",
       "      <td>-0.027915</td>\n",
       "      <td>-0.003396</td>\n",
       "      <td>-0.005308</td>\n",
       "    </tr>\n",
       "    <tr>\n",
       "      <th>2018-03-06</th>\n",
       "      <td>-0.025997</td>\n",
       "      <td>-0.011303</td>\n",
       "      <td>-0.007805</td>\n",
       "      <td>0.003213</td>\n",
       "    </tr>\n",
       "    <tr>\n",
       "      <th>2018-03-07</th>\n",
       "      <td>-0.000570</td>\n",
       "      <td>-0.031439</td>\n",
       "      <td>-0.038947</td>\n",
       "      <td>-0.072392</td>\n",
       "    </tr>\n",
       "    <tr>\n",
       "      <th>2018-03-08</th>\n",
       "      <td>0.012458</td>\n",
       "      <td>-0.017572</td>\n",
       "      <td>0.001780</td>\n",
       "      <td>0.028764</td>\n",
       "    </tr>\n",
       "    <tr>\n",
       "      <th>2018-03-09</th>\n",
       "      <td>0.001897</td>\n",
       "      <td>0.070408</td>\n",
       "      <td>-0.012273</td>\n",
       "      <td>-0.026247</td>\n",
       "    </tr>\n",
       "    <tr>\n",
       "      <th>2018-03-12</th>\n",
       "      <td>0.008111</td>\n",
       "      <td>0.048696</td>\n",
       "      <td>-0.007489</td>\n",
       "      <td>0.022761</td>\n",
       "    </tr>\n",
       "    <tr>\n",
       "      <th>2018-03-13</th>\n",
       "      <td>0.006733</td>\n",
       "      <td>0.045297</td>\n",
       "      <td>0.011853</td>\n",
       "      <td>-0.003628</td>\n",
       "    </tr>\n",
       "    <tr>\n",
       "      <th>2018-03-14</th>\n",
       "      <td>-0.006176</td>\n",
       "      <td>0.008311</td>\n",
       "      <td>0.001024</td>\n",
       "      <td>-0.008080</td>\n",
       "    </tr>\n",
       "    <tr>\n",
       "      <th>2018-03-15</th>\n",
       "      <td>0.003890</td>\n",
       "      <td>-0.013426</td>\n",
       "      <td>0.034703</td>\n",
       "      <td>0.000131</td>\n",
       "    </tr>\n",
       "    <tr>\n",
       "      <th>2018-03-16</th>\n",
       "      <td>-0.002013</td>\n",
       "      <td>-0.004222</td>\n",
       "      <td>0.004685</td>\n",
       "      <td>-0.030960</td>\n",
       "    </tr>\n",
       "    <tr>\n",
       "      <th>2018-03-19</th>\n",
       "      <td>-0.025115</td>\n",
       "      <td>-0.015745</td>\n",
       "      <td>-0.041694</td>\n",
       "      <td>-0.016876</td>\n",
       "    </tr>\n",
       "    <tr>\n",
       "      <th>2018-03-20</th>\n",
       "      <td>0.014779</td>\n",
       "      <td>-0.009791</td>\n",
       "      <td>-0.002825</td>\n",
       "      <td>0.015525</td>\n",
       "    </tr>\n",
       "    <tr>\n",
       "      <th>2018-03-21</th>\n",
       "      <td>0.003644</td>\n",
       "      <td>0.002589</td>\n",
       "      <td>0.012524</td>\n",
       "      <td>-0.017174</td>\n",
       "    </tr>\n",
       "    <tr>\n",
       "      <th>2018-03-22</th>\n",
       "      <td>0.002794</td>\n",
       "      <td>-0.016850</td>\n",
       "      <td>-0.003053</td>\n",
       "      <td>-0.015098</td>\n",
       "    </tr>\n",
       "    <tr>\n",
       "      <th>2018-03-23</th>\n",
       "      <td>-0.017093</td>\n",
       "      <td>-0.015438</td>\n",
       "      <td>-0.041087</td>\n",
       "      <td>0.011518</td>\n",
       "    </tr>\n",
       "    <tr>\n",
       "      <th>2018-03-26</th>\n",
       "      <td>0.027501</td>\n",
       "      <td>0.014980</td>\n",
       "      <td>0.024388</td>\n",
       "      <td>0.007560</td>\n",
       "    </tr>\n",
       "    <tr>\n",
       "      <th>2018-03-27</th>\n",
       "      <td>0.016973</td>\n",
       "      <td>0.004613</td>\n",
       "      <td>0.004137</td>\n",
       "      <td>0.000958</td>\n",
       "    </tr>\n",
       "    <tr>\n",
       "      <th>2018-03-28</th>\n",
       "      <td>-0.008930</td>\n",
       "      <td>-0.008908</td>\n",
       "      <td>-0.010113</td>\n",
       "      <td>-0.031687</td>\n",
       "    </tr>\n",
       "  </tbody>\n",
       "</table>\n",
       "<p>984 rows × 4 columns</p>\n",
       "</div>"
      ],
      "text/plain": [
       "                 UPL       DHP     NOCIL     ADANI\n",
       "Date                                              \n",
       "2014-04-01       NaN       NaN       NaN       NaN\n",
       "2014-04-02  0.000000  0.007333  0.038221 -0.001612\n",
       "2014-04-03  0.040915  0.027752  0.009331 -0.025594\n",
       "2014-04-04  0.008924  0.003517  0.054230 -0.008030\n",
       "2014-04-07 -0.001482  0.027161  0.054222 -0.015973\n",
       "2014-04-09  0.008858  0.028400 -0.011173  0.035792\n",
       "2014-04-10  0.039861  0.016018 -0.011300  0.050748\n",
       "2014-04-11  0.020504  0.016980  0.019691  0.003362\n",
       "2014-04-15  0.019414  0.024084  0.000000 -0.034944\n",
       "2014-04-16 -0.031012  0.003422 -0.048512  0.037265\n",
       "2014-04-17  0.003261  0.006866  0.023122  0.021912\n",
       "2014-04-21  0.018890  0.022640  0.055570  0.027835\n",
       "2014-04-22 -0.002742  0.019450 -0.010870  0.003914\n",
       "2014-04-23 -0.017544  0.019701  0.032261 -0.001710\n",
       "2014-04-25  0.070358  0.005383 -0.018692 -0.028527\n",
       "2014-04-28  0.182973 -0.002928 -0.019048 -0.033520\n",
       "2014-04-29 -0.005256  0.007431  0.029772 -0.003127\n",
       "2014-04-30 -0.025956 -0.023111 -0.002670 -0.017644\n",
       "2014-05-02  0.043251 -0.016058 -0.046520 -0.012565\n",
       "2014-05-05 -0.003937 -0.027533  0.011142  0.001076\n",
       "2014-05-06  0.001254  0.004405  0.061765  0.034081\n",
       "2014-05-07  0.012635  0.017058 -0.013106 -0.015707\n",
       "2014-05-08 -0.042998  0.002897 -0.037639  0.003687\n",
       "2014-05-09  0.019922  0.004589  0.000000  0.073469\n",
       "2014-05-12 -0.022695  0.064755 -0.011019 -0.000489\n",
       "2014-05-13  0.017615  0.048525  0.021919  0.092819\n",
       "2014-05-14  0.009954  0.048355 -0.002714 -0.033748\n",
       "2014-05-15 -0.021479  0.048730 -0.030347  0.015316\n",
       "2014-05-16  0.047080  0.048325 -0.005618  0.020656\n",
       "2014-05-19  0.071459  0.048464  0.078525  0.029127\n",
       "...              ...       ...       ...       ...\n",
       "2018-02-14 -0.006352 -0.024948  0.003281  0.023643\n",
       "2018-02-15 -0.008067  0.010119 -0.054893 -0.003153\n",
       "2018-02-16 -0.017610 -0.038177 -0.005338 -0.015297\n",
       "2018-02-19 -0.003274 -0.011399 -0.012386 -0.029027\n",
       "2018-02-20 -0.008520 -0.010464 -0.002441  0.002662\n",
       "2018-02-21 -0.010263 -0.008424 -0.001359  0.001771\n",
       "2018-02-22 -0.018773 -0.019291 -0.012314  0.021011\n",
       "2018-02-23  0.036487 -0.009748  0.014487  0.006169\n",
       "2018-02-26  0.028080  0.000099  0.014548  0.020815\n",
       "2018-02-27  0.000902 -0.013519 -0.005095 -0.011145\n",
       "2018-02-28  0.010484 -0.013440  0.043914 -0.005129\n",
       "2018-03-01 -0.020098 -0.008905  0.060640 -0.005525\n",
       "2018-03-05  0.009267 -0.027915 -0.003396 -0.005308\n",
       "2018-03-06 -0.025997 -0.011303 -0.007805  0.003213\n",
       "2018-03-07 -0.000570 -0.031439 -0.038947 -0.072392\n",
       "2018-03-08  0.012458 -0.017572  0.001780  0.028764\n",
       "2018-03-09  0.001897  0.070408 -0.012273 -0.026247\n",
       "2018-03-12  0.008111  0.048696 -0.007489  0.022761\n",
       "2018-03-13  0.006733  0.045297  0.011853 -0.003628\n",
       "2018-03-14 -0.006176  0.008311  0.001024 -0.008080\n",
       "2018-03-15  0.003890 -0.013426  0.034703  0.000131\n",
       "2018-03-16 -0.002013 -0.004222  0.004685 -0.030960\n",
       "2018-03-19 -0.025115 -0.015745 -0.041694 -0.016876\n",
       "2018-03-20  0.014779 -0.009791 -0.002825  0.015525\n",
       "2018-03-21  0.003644  0.002589  0.012524 -0.017174\n",
       "2018-03-22  0.002794 -0.016850 -0.003053 -0.015098\n",
       "2018-03-23 -0.017093 -0.015438 -0.041087  0.011518\n",
       "2018-03-26  0.027501  0.014980  0.024388  0.007560\n",
       "2018-03-27  0.016973  0.004613  0.004137  0.000958\n",
       "2018-03-28 -0.008930 -0.008908 -0.010113 -0.031687\n",
       "\n",
       "[984 rows x 4 columns]"
      ]
     },
     "execution_count": 41,
     "metadata": {},
     "output_type": "execute_result"
    }
   ],
   "source": [
    "log_daily_returns = np.log(portfolio/portfolio.shift(1))\n",
    "log_daily_returns"
   ]
  },
  {
   "cell_type": "code",
   "execution_count": 42,
   "metadata": {},
   "outputs": [
    {
     "data": {
      "text/html": [
       "<div>\n",
       "<style>\n",
       "    .dataframe thead tr:only-child th {\n",
       "        text-align: right;\n",
       "    }\n",
       "\n",
       "    .dataframe thead th {\n",
       "        text-align: left;\n",
       "    }\n",
       "\n",
       "    .dataframe tbody tr th {\n",
       "        vertical-align: top;\n",
       "    }\n",
       "</style>\n",
       "<table border=\"1\" class=\"dataframe\">\n",
       "  <thead>\n",
       "    <tr style=\"text-align: right;\">\n",
       "      <th></th>\n",
       "      <th>UPL</th>\n",
       "      <th>DHP</th>\n",
       "      <th>NOCIL</th>\n",
       "      <th>ADANI</th>\n",
       "    </tr>\n",
       "  </thead>\n",
       "  <tbody>\n",
       "    <tr>\n",
       "      <th>UPL</th>\n",
       "      <td>1.000000</td>\n",
       "      <td>0.139626</td>\n",
       "      <td>0.302836</td>\n",
       "      <td>0.267873</td>\n",
       "    </tr>\n",
       "    <tr>\n",
       "      <th>DHP</th>\n",
       "      <td>0.139626</td>\n",
       "      <td>1.000000</td>\n",
       "      <td>0.125484</td>\n",
       "      <td>0.152425</td>\n",
       "    </tr>\n",
       "    <tr>\n",
       "      <th>NOCIL</th>\n",
       "      <td>0.302836</td>\n",
       "      <td>0.125484</td>\n",
       "      <td>1.000000</td>\n",
       "      <td>0.332716</td>\n",
       "    </tr>\n",
       "    <tr>\n",
       "      <th>ADANI</th>\n",
       "      <td>0.267873</td>\n",
       "      <td>0.152425</td>\n",
       "      <td>0.332716</td>\n",
       "      <td>1.000000</td>\n",
       "    </tr>\n",
       "  </tbody>\n",
       "</table>\n",
       "</div>"
      ],
      "text/plain": [
       "            UPL       DHP     NOCIL     ADANI\n",
       "UPL    1.000000  0.139626  0.302836  0.267873\n",
       "DHP    0.139626  1.000000  0.125484  0.152425\n",
       "NOCIL  0.302836  0.125484  1.000000  0.332716\n",
       "ADANI  0.267873  0.152425  0.332716  1.000000"
      ]
     },
     "execution_count": 42,
     "metadata": {},
     "output_type": "execute_result"
    }
   ],
   "source": [
    "log_daily_returns.corr()"
   ]
  },
  {
   "cell_type": "code",
   "execution_count": 46,
   "metadata": {},
   "outputs": [
    {
     "data": {
      "text/html": [
       "<div>\n",
       "<style>\n",
       "    .dataframe thead tr:only-child th {\n",
       "        text-align: right;\n",
       "    }\n",
       "\n",
       "    .dataframe thead th {\n",
       "        text-align: left;\n",
       "    }\n",
       "\n",
       "    .dataframe tbody tr th {\n",
       "        vertical-align: top;\n",
       "    }\n",
       "</style>\n",
       "<table border=\"1\" class=\"dataframe\">\n",
       "  <thead>\n",
       "    <tr style=\"text-align: right;\">\n",
       "      <th></th>\n",
       "      <th>UPL</th>\n",
       "      <th>DHP</th>\n",
       "      <th>NOCIL</th>\n",
       "      <th>ADANI</th>\n",
       "    </tr>\n",
       "  </thead>\n",
       "  <tbody>\n",
       "    <tr>\n",
       "      <th>UPL</th>\n",
       "      <td>0.125064</td>\n",
       "      <td>0.027254</td>\n",
       "      <td>0.053526</td>\n",
       "      <td>0.035299</td>\n",
       "    </tr>\n",
       "    <tr>\n",
       "      <th>DHP</th>\n",
       "      <td>0.027254</td>\n",
       "      <td>0.304649</td>\n",
       "      <td>0.034616</td>\n",
       "      <td>0.031349</td>\n",
       "    </tr>\n",
       "    <tr>\n",
       "      <th>NOCIL</th>\n",
       "      <td>0.053526</td>\n",
       "      <td>0.034616</td>\n",
       "      <td>0.249795</td>\n",
       "      <td>0.061963</td>\n",
       "    </tr>\n",
       "    <tr>\n",
       "      <th>ADANI</th>\n",
       "      <td>0.035299</td>\n",
       "      <td>0.031349</td>\n",
       "      <td>0.061963</td>\n",
       "      <td>0.138848</td>\n",
       "    </tr>\n",
       "  </tbody>\n",
       "</table>\n",
       "</div>"
      ],
      "text/plain": [
       "            UPL       DHP     NOCIL     ADANI\n",
       "UPL    0.125064  0.027254  0.053526  0.035299\n",
       "DHP    0.027254  0.304649  0.034616  0.031349\n",
       "NOCIL  0.053526  0.034616  0.249795  0.061963\n",
       "ADANI  0.035299  0.031349  0.061963  0.138848"
      ]
     },
     "execution_count": 46,
     "metadata": {},
     "output_type": "execute_result"
    }
   ],
   "source": [
    "log_daily_returns.cov()*252"
   ]
  },
  {
   "cell_type": "code",
   "execution_count": 44,
   "metadata": {},
   "outputs": [
    {
     "data": {
      "text/plain": [
       "<function matplotlib.pyplot.tight_layout>"
      ]
     },
     "execution_count": 44,
     "metadata": {},
     "output_type": "execute_result"
    },
    {
     "data": {
      "image/png": "[encoded data removed]",
      "text/plain": [
       "<matplotlib.figure.Figure at 0x2513810b8d0>"
      ]
     },
     "metadata": {},
     "output_type": "display_data"
    }
   ],
   "source": [
    "log_daily_returns.hist(bins=100,figsize=(12,8))\n",
    "plt.tight_layout"
   ]
  },
  {
   "cell_type": "code",
   "execution_count": 45,
   "metadata": {},
   "outputs": [
    {
     "data": {
      "text/plain": [
       "UPL      0.341467\n",
       "DHP      0.584255\n",
       "NOCIL    0.646624\n",
       "ADANI    0.164639\n",
       "dtype: float64"
      ]
     },
     "execution_count": 45,
     "metadata": {},
     "output_type": "execute_result"
    }
   ],
   "source": [
    "log_daily_returns.mean()*252"
   ]
  },
  {
   "cell_type": "markdown",
   "metadata": {},
   "source": [
    "Monte Carlo Simulation"
   ]
  },
  {
   "cell_type": "code",
   "execution_count": 48,
   "metadata": {},
   "outputs": [],
   "source": [
    "num_ports = 20000\n",
    "\n",
    "weights_arr = np.zeros((num_ports,len(portfolio.columns)))\n",
    "ret_arr = np.zeros(num_ports)\n",
    "vol_arr =np.zeros(num_ports)\n",
    "sr_arr = np.zeros(num_ports)\n",
    "\n",
    "for i in range(num_ports):\n",
    "    weights = np.array(np.random.random(4))\n",
    "    \n",
    "    weights = weights/sum(weights)\n",
    "    \n",
    "    weights_arr[i,:] = weights\n",
    "    ret_arr[i] = np.sum(log_daily_returns.mean()*weights)*252\n",
    "    vol_arr[i] = np.sqrt(np.dot(weights.T,np.dot(log_daily_returns.cov()*252,weights)))\n",
    "    sr_arr[i] = ret_arr[i]-0.06/vol_arr[i]"
   ]
  },
  {
   "cell_type": "code",
   "execution_count": 49,
   "metadata": {},
   "outputs": [
    {
     "data": {
      "text/plain": [
       "0.50389479354530997"
      ]
     },
     "execution_count": 49,
     "metadata": {},
     "output_type": "execute_result"
    }
   ],
   "source": [
    "sr_arr.max()"
   ]
  },
  {
   "cell_type": "code",
   "execution_count": 50,
   "metadata": {},
   "outputs": [
    {
     "data": {
      "text/plain": [
       "4576"
      ]
     },
     "execution_count": 50,
     "metadata": {},
     "output_type": "execute_result"
    }
   ],
   "source": [
    "sr_arr.argmax()"
   ]
  },
  {
   "cell_type": "code",
   "execution_count": 52,
   "metadata": {},
   "outputs": [
    {
     "data": {
      "text/plain": [
       "array([ 0.00356109,  0.11207007,  0.87996968,  0.00439916])"
      ]
     },
     "execution_count": 52,
     "metadata": {},
     "output_type": "execute_result"
    }
   ],
   "source": [
    "max_ret = ret_arr[4576]\n",
    "max_vol = vol_arr[4576]\n",
    "weights_arr[4576,:]"
   ]
  },
  {
   "cell_type": "code",
   "execution_count": 53,
   "metadata": {},
   "outputs": [
    {
     "data": {
      "text/plain": [
       "<matplotlib.collections.PathCollection at 0x251383695f8>"
      ]
     },
     "execution_count": 53,
     "metadata": {},
     "output_type": "execute_result"
    },
    {
     "data": {
      "image/png": "[encoded data removed]",
      "text/plain": [
       "<matplotlib.figure.Figure at 0x25137aada90>"
      ]
     },
     "metadata": {},
     "output_type": "display_data"
    }
   ],
   "source": [
    "plt.figure(figsize=(12,8))\n",
    "plt.scatter(vol_arr,ret_arr,c=sr_arr,cmap='plasma')\n",
    "plt.xlabel('Volatility')\n",
    "plt.ylabel('Returns')\n",
    "\n",
    "plt.scatter(max_vol,max_ret,c='red',s=50,edgecolors='black')"
   ]
  },
  {
   "cell_type": "code",
   "execution_count": null,
   "metadata": {
    "collapsed": true
   },
   "outputs": [],
   "source": []
  }
 ],
 "metadata": {
  "kernelspec": {
   "display_name": "Python 3",
   "language": "python",
   "name": "python3"
  },
  "language_info": {
   "codemirror_mode": {
    "name": "ipython",
    "version": 3
   },
   "file_extension": ".py",
   "mimetype": "text/x-python",
   "name": "python",
   "nbconvert_exporter": "python",
   "pygments_lexer": "ipython3",
   "version": "3.6.2"
  }
 },
 "nbformat": 4,
 "nbformat_minor": 2
}
