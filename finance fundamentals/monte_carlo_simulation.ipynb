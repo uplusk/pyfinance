{
 "cells": [
  {
   "cell_type": "markdown",
   "metadata": {},
   "source": [
    "# Monte Carlo Simulation "
   ]
  },
  {
   "cell_type": "markdown",
   "metadata": {},
   "source": [
    "Problem Statement: Evaluating mean and standard deviation of the profits from fixed-strike Arithmetic option.\n",
    "The value of option at expiry is defined by $V=max[\\sum_{t=1}^T S_t - X,0]$ , here $S_t$ is the closing price of the underlying asset at time t and T is the number of periods in the life of the option. "
   ]
  },
  {
   "cell_type": "markdown",
   "metadata": {},
   "source": [
    "We assume that there are 200 days until expiry. And the returns have lognormal distribution with the mean $\\mu$ = 10% and the standard deviation $\\sigma$ = 20%"
   ]
  },
  {
   "cell_type": "code",
   "execution_count": 1,
   "metadata": {},
   "outputs": [],
   "source": [
    "import numpy as np"
   ]
  },
  {
   "cell_type": "code",
   "execution_count": 13,
   "metadata": {},
   "outputs": [],
   "source": [
    "num_days = 200\n",
    "num_trials = 10000\n",
    "ret_arr = np.zeros((num_trials,num_days))\n",
    "strike_price = 100 #assumed\n",
    "option_value_arr = np.zeros(num_trials)"
   ]
  },
  {
   "cell_type": "code",
   "execution_count": 16,
   "metadata": {},
   "outputs": [],
   "source": [
    "for i in range(num_trials):\n",
    "    ret_arr[i,:] = np.random.normal(10,20,200)\n",
    "    option_value = np.mean(ret_arr[i,:]) - strike_price\n",
    "    #if option_value > 0:\n",
    "    option_value_arr[i] = option_value\n",
    "    #else:\n",
    "    #option_value_arr[i] = 0"
   ]
  },
  {
   "cell_type": "code",
   "execution_count": 17,
   "metadata": {},
   "outputs": [
    {
     "data": {
      "text/plain": [
       "array([-90.58284182, -88.46953333, -90.47963846, ..., -87.61636865,\n",
       "       -89.7645215 , -89.38978897])"
      ]
     },
     "execution_count": 17,
     "metadata": {},
     "output_type": "execute_result"
    }
   ],
   "source": [
    "option_value_arr"
   ]
  },
  {
   "cell_type": "code",
   "execution_count": 18,
   "metadata": {},
   "outputs": [
    {
     "data": {
      "text/plain": [
       "array([[ 29.84710739, -21.90226514,  16.33340389, ...,   3.82662042,\n",
       "         18.59560994, -42.87991144],\n",
       "       [-41.47864855,  29.75688432,  31.55221181, ...,   1.87409642,\n",
       "         32.87500515,   3.30944667],\n",
       "       [ 22.69892229,  -0.23815413,  76.90679828, ...,  28.38850482,\n",
       "          8.02642097,  -9.93148958],\n",
       "       ...,\n",
       "       [ 24.27048449, -25.2003621 ,  -9.03404317, ...,  33.33952977,\n",
       "          0.71341973,  15.95572607],\n",
       "       [-19.17355775,  28.35941916,  55.68037655, ...,  -8.43770669,\n",
       "         42.14380202, -15.65210876],\n",
       "       [  1.90944075,  21.96718802,  38.17950096, ...,  10.26704469,\n",
       "         28.44310805,  -4.11057997]])"
      ]
     },
     "execution_count": 18,
     "metadata": {},
     "output_type": "execute_result"
    }
   ],
   "source": [
    "ret_arr"
   ]
  },
  {
   "cell_type": "code",
   "execution_count": 22,
   "metadata": {},
   "outputs": [],
   "source": [
    "sample = np.zeros((4,4))"
   ]
  },
  {
   "cell_type": "code",
   "execution_count": 26,
   "metadata": {},
   "outputs": [],
   "source": [
    "sample[3,:] = np.array([1,2,3,4])"
   ]
  },
  {
   "cell_type": "code",
   "execution_count": 27,
   "metadata": {},
   "outputs": [
    {
     "data": {
      "text/plain": [
       "array([[0., 0., 0., 0.],\n",
       "       [0., 0., 0., 0.],\n",
       "       [0., 0., 0., 0.],\n",
       "       [1., 2., 3., 4.]])"
      ]
     },
     "execution_count": 27,
     "metadata": {},
     "output_type": "execute_result"
    }
   ],
   "source": [
    "sample"
   ]
  },
  {
   "cell_type": "code",
   "execution_count": 28,
   "metadata": {},
   "outputs": [
    {
     "data": {
      "text/plain": [
       "2.5"
      ]
     },
     "execution_count": 28,
     "metadata": {},
     "output_type": "execute_result"
    }
   ],
   "source": [
    "np.mean(sample[3,:])"
   ]
  },
  {
   "cell_type": "code",
   "execution_count": null,
   "metadata": {},
   "outputs": [],
   "source": []
  }
 ],
 "metadata": {
  "kernelspec": {
   "display_name": "Python 3",
   "language": "python",
   "name": "python3"
  },
  "language_info": {
   "codemirror_mode": {
    "name": "ipython",
    "version": 3
   },
   "file_extension": ".py",
   "mimetype": "text/x-python",
   "name": "python",
   "nbconvert_exporter": "python",
   "pygments_lexer": "ipython3",
   "version": "3.6.5"
  }
 },
 "nbformat": 4,
 "nbformat_minor": 2
}
