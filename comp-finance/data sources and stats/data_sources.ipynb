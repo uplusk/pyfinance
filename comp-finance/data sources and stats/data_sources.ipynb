{
 "cells": [
  {
   "cell_type": "code",
   "execution_count": 3,
   "metadata": {},
   "outputs": [],
   "source": [
    "import pandas_datareader.data as pddata"
   ]
  },
  {
   "cell_type": "code",
   "execution_count": 43,
   "metadata": {},
   "outputs": [],
   "source": [
    "import numpy as np\n",
    "import statsmodels.api as sm\n",
    "from scipy import stats"
   ]
  },
  {
   "cell_type": "code",
   "execution_count": 28,
   "metadata": {},
   "outputs": [
    {
     "name": "stdout",
     "output_type": "stream",
     "text": [
      "Help on function DataReader in module pandas_datareader.data:\n",
      "\n",
      "DataReader(name, data_source=None, start=None, end=None, retry_count=3, pause=0.001, session=None, access_key=None)\n",
      "    Imports data from a number of online sources.\n",
      "    \n",
      "    Currently supports Google Finance, St. Louis FED (FRED),\n",
      "    and Kenneth French's data library, among others.\n",
      "    \n",
      "    Parameters\n",
      "    ----------\n",
      "    name : str or list of strs\n",
      "        the name of the dataset. Some data sources (google, fred) will\n",
      "        accept a list of names.\n",
      "    data_source: {str, None}\n",
      "        the data source (\"google\", \"fred\", \"ff\")\n",
      "    start : {datetime, None}\n",
      "        left boundary for range (defaults to 1/1/2010)\n",
      "    end : {datetime, None}\n",
      "        right boundary for range (defaults to today)\n",
      "    retry_count : {int, 3}\n",
      "        Number of times to retry query request.\n",
      "    pause : {numeric, 0.001}\n",
      "        Time, in seconds, to pause between consecutive queries of chunks. If\n",
      "        single value given for symbol, represents the pause between retries.\n",
      "    session : Session, default None\n",
      "        requests.sessions.Session instance to be used\n",
      "    access_key : (str, None)\n",
      "        Optional parameter to specify an API key for certain data sources.\n",
      "    \n",
      "    Examples\n",
      "    ----------\n",
      "    # Data from Google Finance\n",
      "    aapl = DataReader(\"AAPL\", \"google\")\n",
      "    \n",
      "    # Price and volume data from IEX\n",
      "    tops = DataReader([\"GS\", \"AAPL\"], \"iex-tops\")\n",
      "    # Top of book executions from IEX\n",
      "    gs = DataReader(\"GS\", \"iex-last\")\n",
      "    # Real-time depth of book data from IEX\n",
      "    gs = DataReader(\"GS\", \"iex-book\")\n",
      "    \n",
      "    # Data from FRED\n",
      "    vix = DataReader(\"VIXCLS\", \"fred\")\n",
      "    \n",
      "    # Data from Fama/French\n",
      "    ff = DataReader(\"F-F_Research_Data_Factors\", \"famafrench\")\n",
      "    ff = DataReader(\"F-F_Research_Data_Factors_weekly\", \"famafrench\")\n",
      "    ff = DataReader(\"6_Portfolios_2x3\", \"famafrench\")\n",
      "    ff = DataReader(\"F-F_ST_Reversal_Factor\", \"famafrench\")\n",
      "\n"
     ]
    }
   ],
   "source": [
    "help(pddata.DataReader)"
   ]
  },
  {
   "cell_type": "code",
   "execution_count": 29,
   "metadata": {},
   "outputs": [],
   "source": [
    "api_key = \"sY8rR9LTz4kT5z2cs94v\""
   ]
  },
  {
   "cell_type": "code",
   "execution_count": 30,
   "metadata": {},
   "outputs": [],
   "source": [
    "india_cem = pddata.DataReader('INDIACEM.IN','quandl','2013-04-01','2018-05-31',access_key=api_key).sort_index()"
   ]
  },
  {
   "cell_type": "code",
   "execution_count": null,
   "metadata": {},
   "outputs": [],
   "source": []
  },
  {
   "cell_type": "code",
   "execution_count": 31,
   "metadata": {},
   "outputs": [],
   "source": [
    "india_cem['Cumulative Ret'] = india_cem['Close']/india_cem.iloc[0]['Close']"
   ]
  },
  {
   "cell_type": "code",
   "execution_count": 32,
   "metadata": {},
   "outputs": [
    {
     "data": {
      "text/html": [
       "<div>\n",
       "<style scoped>\n",
       "    .dataframe tbody tr th:only-of-type {\n",
       "        vertical-align: middle;\n",
       "    }\n",
       "\n",
       "    .dataframe tbody tr th {\n",
       "        vertical-align: top;\n",
       "    }\n",
       "\n",
       "    .dataframe thead th {\n",
       "        text-align: right;\n",
       "    }\n",
       "</style>\n",
       "<table border=\"1\" class=\"dataframe\">\n",
       "  <thead>\n",
       "    <tr style=\"text-align: right;\">\n",
       "      <th></th>\n",
       "      <th>Open</th>\n",
       "      <th>High</th>\n",
       "      <th>Low</th>\n",
       "      <th>Last</th>\n",
       "      <th>Close</th>\n",
       "      <th>TotalTradeQuantity</th>\n",
       "      <th>TurnoverLacs</th>\n",
       "      <th>Cumulative Ret</th>\n",
       "    </tr>\n",
       "    <tr>\n",
       "      <th>Date</th>\n",
       "      <th></th>\n",
       "      <th></th>\n",
       "      <th></th>\n",
       "      <th></th>\n",
       "      <th></th>\n",
       "      <th></th>\n",
       "      <th></th>\n",
       "      <th></th>\n",
       "    </tr>\n",
       "  </thead>\n",
       "  <tbody>\n",
       "    <tr>\n",
       "      <th>2013-04-01</th>\n",
       "      <td>84.85</td>\n",
       "      <td>85.5</td>\n",
       "      <td>83.50</td>\n",
       "      <td>85.50</td>\n",
       "      <td>85.20</td>\n",
       "      <td>199895.0</td>\n",
       "      <td>169.01</td>\n",
       "      <td>1.000000</td>\n",
       "    </tr>\n",
       "    <tr>\n",
       "      <th>2013-04-02</th>\n",
       "      <td>84.00</td>\n",
       "      <td>85.8</td>\n",
       "      <td>82.65</td>\n",
       "      <td>85.10</td>\n",
       "      <td>85.10</td>\n",
       "      <td>314894.0</td>\n",
       "      <td>265.10</td>\n",
       "      <td>0.998826</td>\n",
       "    </tr>\n",
       "    <tr>\n",
       "      <th>2013-04-03</th>\n",
       "      <td>85.15</td>\n",
       "      <td>85.5</td>\n",
       "      <td>82.55</td>\n",
       "      <td>82.95</td>\n",
       "      <td>83.05</td>\n",
       "      <td>264056.0</td>\n",
       "      <td>221.50</td>\n",
       "      <td>0.974765</td>\n",
       "    </tr>\n",
       "    <tr>\n",
       "      <th>2013-04-04</th>\n",
       "      <td>82.00</td>\n",
       "      <td>82.9</td>\n",
       "      <td>79.85</td>\n",
       "      <td>80.75</td>\n",
       "      <td>80.35</td>\n",
       "      <td>752948.0</td>\n",
       "      <td>615.70</td>\n",
       "      <td>0.943075</td>\n",
       "    </tr>\n",
       "    <tr>\n",
       "      <th>2013-04-05</th>\n",
       "      <td>80.00</td>\n",
       "      <td>82.5</td>\n",
       "      <td>78.40</td>\n",
       "      <td>81.35</td>\n",
       "      <td>81.90</td>\n",
       "      <td>1169602.0</td>\n",
       "      <td>943.28</td>\n",
       "      <td>0.961268</td>\n",
       "    </tr>\n",
       "  </tbody>\n",
       "</table>\n",
       "</div>"
      ],
      "text/plain": [
       "             Open  High    Low   Last  Close  TotalTradeQuantity  \\\n",
       "Date                                                               \n",
       "2013-04-01  84.85  85.5  83.50  85.50  85.20            199895.0   \n",
       "2013-04-02  84.00  85.8  82.65  85.10  85.10            314894.0   \n",
       "2013-04-03  85.15  85.5  82.55  82.95  83.05            264056.0   \n",
       "2013-04-04  82.00  82.9  79.85  80.75  80.35            752948.0   \n",
       "2013-04-05  80.00  82.5  78.40  81.35  81.90           1169602.0   \n",
       "\n",
       "            TurnoverLacs  Cumulative Ret  \n",
       "Date                                      \n",
       "2013-04-01        169.01        1.000000  \n",
       "2013-04-02        265.10        0.998826  \n",
       "2013-04-03        221.50        0.974765  \n",
       "2013-04-04        615.70        0.943075  \n",
       "2013-04-05        943.28        0.961268  "
      ]
     },
     "execution_count": 32,
     "metadata": {},
     "output_type": "execute_result"
    }
   ],
   "source": [
    "india_cem.head()"
   ]
  },
  {
   "cell_type": "code",
   "execution_count": 58,
   "metadata": {},
   "outputs": [],
   "source": [
    "india_cem['Daily returns'] = np.log(india_cem['Close']/india_cem['Close'].shift(1))"
   ]
  },
  {
   "cell_type": "code",
   "execution_count": 59,
   "metadata": {},
   "outputs": [
    {
     "data": {
      "text/html": [
       "<div>\n",
       "<style scoped>\n",
       "    .dataframe tbody tr th:only-of-type {\n",
       "        vertical-align: middle;\n",
       "    }\n",
       "\n",
       "    .dataframe tbody tr th {\n",
       "        vertical-align: top;\n",
       "    }\n",
       "\n",
       "    .dataframe thead th {\n",
       "        text-align: right;\n",
       "    }\n",
       "</style>\n",
       "<table border=\"1\" class=\"dataframe\">\n",
       "  <thead>\n",
       "    <tr style=\"text-align: right;\">\n",
       "      <th></th>\n",
       "      <th>Open</th>\n",
       "      <th>High</th>\n",
       "      <th>Low</th>\n",
       "      <th>Last</th>\n",
       "      <th>Close</th>\n",
       "      <th>TotalTradeQuantity</th>\n",
       "      <th>TurnoverLacs</th>\n",
       "      <th>Cumulative Ret</th>\n",
       "      <th>Daily returns</th>\n",
       "    </tr>\n",
       "    <tr>\n",
       "      <th>Date</th>\n",
       "      <th></th>\n",
       "      <th></th>\n",
       "      <th></th>\n",
       "      <th></th>\n",
       "      <th></th>\n",
       "      <th></th>\n",
       "      <th></th>\n",
       "      <th></th>\n",
       "      <th></th>\n",
       "    </tr>\n",
       "  </thead>\n",
       "  <tbody>\n",
       "    <tr>\n",
       "      <th>2013-04-01</th>\n",
       "      <td>84.85</td>\n",
       "      <td>85.5</td>\n",
       "      <td>83.50</td>\n",
       "      <td>85.50</td>\n",
       "      <td>85.20</td>\n",
       "      <td>199895.0</td>\n",
       "      <td>169.01</td>\n",
       "      <td>1.000000</td>\n",
       "      <td>NaN</td>\n",
       "    </tr>\n",
       "    <tr>\n",
       "      <th>2013-04-02</th>\n",
       "      <td>84.00</td>\n",
       "      <td>85.8</td>\n",
       "      <td>82.65</td>\n",
       "      <td>85.10</td>\n",
       "      <td>85.10</td>\n",
       "      <td>314894.0</td>\n",
       "      <td>265.10</td>\n",
       "      <td>0.998826</td>\n",
       "      <td>-0.001174</td>\n",
       "    </tr>\n",
       "    <tr>\n",
       "      <th>2013-04-03</th>\n",
       "      <td>85.15</td>\n",
       "      <td>85.5</td>\n",
       "      <td>82.55</td>\n",
       "      <td>82.95</td>\n",
       "      <td>83.05</td>\n",
       "      <td>264056.0</td>\n",
       "      <td>221.50</td>\n",
       "      <td>0.974765</td>\n",
       "      <td>-0.024384</td>\n",
       "    </tr>\n",
       "    <tr>\n",
       "      <th>2013-04-04</th>\n",
       "      <td>82.00</td>\n",
       "      <td>82.9</td>\n",
       "      <td>79.85</td>\n",
       "      <td>80.75</td>\n",
       "      <td>80.35</td>\n",
       "      <td>752948.0</td>\n",
       "      <td>615.70</td>\n",
       "      <td>0.943075</td>\n",
       "      <td>-0.033051</td>\n",
       "    </tr>\n",
       "    <tr>\n",
       "      <th>2013-04-05</th>\n",
       "      <td>80.00</td>\n",
       "      <td>82.5</td>\n",
       "      <td>78.40</td>\n",
       "      <td>81.35</td>\n",
       "      <td>81.90</td>\n",
       "      <td>1169602.0</td>\n",
       "      <td>943.28</td>\n",
       "      <td>0.961268</td>\n",
       "      <td>0.019107</td>\n",
       "    </tr>\n",
       "  </tbody>\n",
       "</table>\n",
       "</div>"
      ],
      "text/plain": [
       "             Open  High    Low   Last  Close  TotalTradeQuantity  \\\n",
       "Date                                                               \n",
       "2013-04-01  84.85  85.5  83.50  85.50  85.20            199895.0   \n",
       "2013-04-02  84.00  85.8  82.65  85.10  85.10            314894.0   \n",
       "2013-04-03  85.15  85.5  82.55  82.95  83.05            264056.0   \n",
       "2013-04-04  82.00  82.9  79.85  80.75  80.35            752948.0   \n",
       "2013-04-05  80.00  82.5  78.40  81.35  81.90           1169602.0   \n",
       "\n",
       "            TurnoverLacs  Cumulative Ret  Daily returns  \n",
       "Date                                                     \n",
       "2013-04-01        169.01        1.000000            NaN  \n",
       "2013-04-02        265.10        0.998826      -0.001174  \n",
       "2013-04-03        221.50        0.974765      -0.024384  \n",
       "2013-04-04        615.70        0.943075      -0.033051  \n",
       "2013-04-05        943.28        0.961268       0.019107  "
      ]
     },
     "execution_count": 59,
     "metadata": {},
     "output_type": "execute_result"
    }
   ],
   "source": [
    "india_cem.head()"
   ]
  },
  {
   "cell_type": "code",
   "execution_count": 72,
   "metadata": {},
   "outputs": [],
   "source": []
  },
  {
   "cell_type": "code",
   "execution_count": 73,
   "metadata": {},
   "outputs": [],
   "source": [
    "mean_ret = ret.mean()"
   ]
  },
  {
   "cell_type": "code",
   "execution_count": 74,
   "metadata": {},
   "outputs": [
    {
     "data": {
      "text/plain": [
       "Date\n",
       "2013-04-01    NaN\n",
       "2013-04-02    0.0\n",
       "2013-04-03    0.0\n",
       "2013-04-04    0.0\n",
       "2013-04-05    0.0\n",
       "2013-04-08    0.0\n",
       "2013-04-09    0.0\n",
       "2013-04-10    0.0\n",
       "2013-04-11    0.0\n",
       "2013-04-12    0.0\n",
       "2013-04-15    0.0\n",
       "2013-04-16    0.0\n",
       "2013-04-17    0.0\n",
       "2013-04-18    0.0\n",
       "2013-04-22    0.0\n",
       "2013-04-23    0.0\n",
       "2013-04-25    0.0\n",
       "2013-04-26    0.0\n",
       "2013-04-29    0.0\n",
       "2013-04-30    0.0\n",
       "2013-05-02    0.0\n",
       "2013-05-03    0.0\n",
       "2013-05-06    0.0\n",
       "2013-05-07    0.0\n",
       "2013-05-08    0.0\n",
       "2013-05-09    0.0\n",
       "2013-05-10    0.0\n",
       "2013-05-11    0.0\n",
       "2013-05-13    0.0\n",
       "2013-05-14    0.0\n",
       "             ... \n",
       "2018-04-19    0.0\n",
       "2018-04-20    0.0\n",
       "2018-04-23    0.0\n",
       "2018-04-24    0.0\n",
       "2018-04-25    0.0\n",
       "2018-04-26    0.0\n",
       "2018-04-27    0.0\n",
       "2018-04-30    0.0\n",
       "2018-05-02    0.0\n",
       "2018-05-03    0.0\n",
       "2018-05-04    0.0\n",
       "2018-05-07    0.0\n",
       "2018-05-08    0.0\n",
       "2018-05-09    0.0\n",
       "2018-05-10    0.0\n",
       "2018-05-11    0.0\n",
       "2018-05-14    0.0\n",
       "2018-05-15    0.0\n",
       "2018-05-16    0.0\n",
       "2018-05-17    0.0\n",
       "2018-05-18    0.0\n",
       "2018-05-21    0.0\n",
       "2018-05-22    0.0\n",
       "2018-05-23    0.0\n",
       "2018-05-24    0.0\n",
       "2018-05-25    0.0\n",
       "2018-05-28    0.0\n",
       "2018-05-29    0.0\n",
       "2018-05-30    0.0\n",
       "2018-05-31    NaN\n",
       "Name: Close, Length: 1278, dtype: float64"
      ]
     },
     "execution_count": 74,
     "metadata": {},
     "output_type": "execute_result"
    }
   ],
   "source": [
    "ret"
   ]
  },
  {
   "cell_type": "code",
   "execution_count": 65,
   "metadata": {},
   "outputs": [
    {
     "data": {
      "text/plain": [
       "0.00033057817325937965"
      ]
     },
     "execution_count": 65,
     "metadata": {},
     "output_type": "execute_result"
    }
   ],
   "source": [
    "mean_ret"
   ]
  },
  {
   "cell_type": "code",
   "execution_count": 67,
   "metadata": {},
   "outputs": [
    {
     "name": "stdout",
     "output_type": "stream",
     "text": [
      "Help on function ttest_1samp in module scipy.stats.stats:\n",
      "\n",
      "ttest_1samp(a, popmean, axis=0, nan_policy='propagate')\n",
      "    Calculate the T-test for the mean of ONE group of scores.\n",
      "    \n",
      "    This is a two-sided test for the null hypothesis that the expected value\n",
      "    (mean) of a sample of independent observations `a` is equal to the given\n",
      "    population mean, `popmean`.\n",
      "    \n",
      "    Parameters\n",
      "    ----------\n",
      "    a : array_like\n",
      "        sample observation\n",
      "    popmean : float or array_like\n",
      "        expected value in null hypothesis, if array_like than it must have the\n",
      "        same shape as `a` excluding the axis dimension\n",
      "    axis : int or None, optional\n",
      "        Axis along which to compute test. If None, compute over the whole\n",
      "        array `a`.\n",
      "    nan_policy : {'propagate', 'raise', 'omit'}, optional\n",
      "        Defines how to handle when input contains nan. 'propagate' returns nan,\n",
      "        'raise' throws an error, 'omit' performs the calculations ignoring nan\n",
      "        values. Default is 'propagate'.\n",
      "    \n",
      "    Returns\n",
      "    -------\n",
      "    statistic : float or array\n",
      "        t-statistic\n",
      "    pvalue : float or array\n",
      "        two-tailed p-value\n",
      "    \n",
      "    Examples\n",
      "    --------\n",
      "    >>> from scipy import stats\n",
      "    \n",
      "    >>> np.random.seed(7654567)  # fix seed to get the same result\n",
      "    >>> rvs = stats.norm.rvs(loc=5, scale=10, size=(50,2))\n",
      "    \n",
      "    Test if mean of random sample is equal to true mean, and different mean.\n",
      "    We reject the null hypothesis in the second case and don't reject it in\n",
      "    the first case.\n",
      "    \n",
      "    >>> stats.ttest_1samp(rvs,5.0)\n",
      "    (array([-0.68014479, -0.04323899]), array([ 0.49961383,  0.96568674]))\n",
      "    >>> stats.ttest_1samp(rvs,0.0)\n",
      "    (array([ 2.77025808,  4.11038784]), array([ 0.00789095,  0.00014999]))\n",
      "    \n",
      "    Examples using axis and non-scalar dimension for population mean.\n",
      "    \n",
      "    >>> stats.ttest_1samp(rvs,[5.0,0.0])\n",
      "    (array([-0.68014479,  4.11038784]), array([  4.99613833e-01,   1.49986458e-04]))\n",
      "    >>> stats.ttest_1samp(rvs.T,[5.0,0.0],axis=1)\n",
      "    (array([-0.68014479,  4.11038784]), array([  4.99613833e-01,   1.49986458e-04]))\n",
      "    >>> stats.ttest_1samp(rvs,[[5.0],[0.0]])\n",
      "    (array([[-0.68014479, -0.04323899],\n",
      "           [ 2.77025808,  4.11038784]]), array([[  4.99613833e-01,   9.65686743e-01],\n",
      "           [  7.89094663e-03,   1.49986458e-04]]))\n",
      "\n"
     ]
    }
   ],
   "source": [
    "help(stats.ttest_1samp)"
   ]
  },
  {
   "cell_type": "code",
   "execution_count": 70,
   "metadata": {},
   "outputs": [
    {
     "name": "stderr",
     "output_type": "stream",
     "text": [
      "c:\\users\\uday\\appdata\\local\\programs\\python\\python36-32\\lib\\site-packages\\scipy\\stats\\_distn_infrastructure.py:879: RuntimeWarning: invalid value encountered in greater\n",
      "  return (self.a < x) & (x < self.b)\n",
      "c:\\users\\uday\\appdata\\local\\programs\\python\\python36-32\\lib\\site-packages\\scipy\\stats\\_distn_infrastructure.py:879: RuntimeWarning: invalid value encountered in less\n",
      "  return (self.a < x) & (x < self.b)\n",
      "c:\\users\\uday\\appdata\\local\\programs\\python\\python36-32\\lib\\site-packages\\scipy\\stats\\_distn_infrastructure.py:1821: RuntimeWarning: invalid value encountered in less_equal\n",
      "  cond2 = cond0 & (x <= self.a)\n"
     ]
    },
    {
     "data": {
      "text/plain": [
       "Ttest_1sampResult(statistic=nan, pvalue=nan)"
      ]
     },
     "execution_count": 70,
     "metadata": {},
     "output_type": "execute_result"
    }
   ],
   "source": [
    "stats.ttest_1samp(ret,0)"
   ]
  },
  {
   "cell_type": "code",
   "execution_count": null,
   "metadata": {},
   "outputs": [],
   "source": []
  },
  {
   "cell_type": "code",
   "execution_count": null,
   "metadata": {},
   "outputs": [],
   "source": []
  }
 ],
 "metadata": {
  "kernelspec": {
   "display_name": "Python 3",
   "language": "python",
   "name": "python3"
  },
  "language_info": {
   "codemirror_mode": {
    "name": "ipython",
    "version": 3
   },
   "file_extension": ".py",
   "mimetype": "text/x-python",
   "name": "python",
   "nbconvert_exporter": "python",
   "pygments_lexer": "ipython3",
   "version": "3.6.5"
  }
 },
 "nbformat": 4,
 "nbformat_minor": 2
}
