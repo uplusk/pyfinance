{
 "cells": [
  {
   "cell_type": "markdown",
   "metadata": {},
   "source": [
    "## Future Value"
   ]
  },
  {
   "cell_type": "code",
   "execution_count": 7,
   "metadata": {},
   "outputs": [],
   "source": [
    "import scipy"
   ]
  },
  {
   "cell_type": "code",
   "execution_count": 8,
   "metadata": {},
   "outputs": [
    {
     "name": "stdout",
     "output_type": "stream",
     "text": [
      "Help on function pv in module numpy.lib.financial:\n",
      "\n",
      "pv(rate, nper, pmt, fv=0, when='end')\n",
      "    Compute the present value.\n",
      "    \n",
      "    Given:\n",
      "     * a future value, `fv`\n",
      "     * an interest `rate` compounded once per period, of which\n",
      "       there are\n",
      "     * `nper` total\n",
      "     * a (fixed) payment, `pmt`, paid either\n",
      "     * at the beginning (`when` = {'begin', 1}) or the end\n",
      "       (`when` = {'end', 0}) of each period\n",
      "    \n",
      "    Return:\n",
      "       the value now\n",
      "    \n",
      "    Parameters\n",
      "    ----------\n",
      "    rate : array_like\n",
      "        Rate of interest (per period)\n",
      "    nper : array_like\n",
      "        Number of compounding periods\n",
      "    pmt : array_like\n",
      "        Payment\n",
      "    fv : array_like, optional\n",
      "        Future value\n",
      "    when : {{'begin', 1}, {'end', 0}}, {string, int}, optional\n",
      "        When payments are due ('begin' (1) or 'end' (0))\n",
      "    \n",
      "    Returns\n",
      "    -------\n",
      "    out : ndarray, float\n",
      "        Present value of a series of payments or investments.\n",
      "    \n",
      "    Notes\n",
      "    -----\n",
      "    The present value is computed by solving the equation::\n",
      "    \n",
      "     fv +\n",
      "     pv*(1 + rate)**nper +\n",
      "     pmt*(1 + rate*when)/rate*((1 + rate)**nper - 1) = 0\n",
      "    \n",
      "    or, when ``rate = 0``::\n",
      "    \n",
      "     fv + pv + pmt * nper = 0\n",
      "    \n",
      "    for `pv`, which is then returned.\n",
      "    \n",
      "    References\n",
      "    ----------\n",
      "    .. [WRW] Wheeler, D. A., E. Rathke, and R. Weir (Eds.) (2009, May).\n",
      "       Open Document Format for Office Applications (OpenDocument)v1.2,\n",
      "       Part 2: Recalculated Formula (OpenFormula) Format - Annotated Version,\n",
      "       Pre-Draft 12. Organization for the Advancement of Structured Information\n",
      "       Standards (OASIS). Billerica, MA, USA. [ODT Document].\n",
      "       Available:\n",
      "       http://www.oasis-open.org/committees/documents.php?wg_abbrev=office-formula\n",
      "       OpenDocument-formula-20090508.odt\n",
      "    \n",
      "    Examples\n",
      "    --------\n",
      "    What is the present value (e.g., the initial investment)\n",
      "    of an investment that needs to total $15692.93\n",
      "    after 10 years of saving $100 every month?  Assume the\n",
      "    interest rate is 5% (annually) compounded monthly.\n",
      "    \n",
      "    >>> np.pv(0.05/12, 10*12, -100, 15692.93)\n",
      "    -100.00067131625819\n",
      "    \n",
      "    By convention, the negative sign represents cash flow out\n",
      "    (i.e., money not available today).  Thus, to end up with\n",
      "    $15,692.93 in 10 years saving $100 a month at 5% annual\n",
      "    interest, one's initial deposit should also be $100.\n",
      "    \n",
      "    If any input is array_like, ``pv`` returns an array of equal shape.\n",
      "    Let's compare different interest rates in the example above:\n",
      "    \n",
      "    >>> a = np.array((0.05, 0.04, 0.03))/12\n",
      "    >>> np.pv(a, 10*12, -100, 15692.93)\n",
      "    array([ -100.00067132,  -649.26771385, -1273.78633713])\n",
      "    \n",
      "    So, to end up with the same $15692.93 under the same $100 per month\n",
      "    \"savings plan,\" for annual interest rates of 4% and 3%, one would\n",
      "    need initial investments of $649.27 and $1273.79, respectively.\n",
      "\n"
     ]
    }
   ],
   "source": [
    "help(scipy.pv)"
   ]
  },
  {
   "cell_type": "code",
   "execution_count": 9,
   "metadata": {},
   "outputs": [
    {
     "data": {
      "text/plain": [
       "15692.928894335748"
      ]
     },
     "execution_count": 9,
     "metadata": {},
     "output_type": "execute_result"
    }
   ],
   "source": [
    "fv = scipy.fv(0.05/12,10*12,-100,-100)\n",
    "fv"
   ]
  },
  {
   "cell_type": "markdown",
   "metadata": {},
   "source": [
    "## Perpetuity"
   ]
  },
  {
   "cell_type": "markdown",
   "metadata": {},
   "source": [
    "PV(growing perpetuity) = C/R-g , where R is the period discount rate and g is the growth rate(inflation)\n",
    "\n",
    "PV(perpetuity, when first cash flow is at the end of kth period) = (1/(1+R)^(k-1))*(C/R-g)\n"
   ]
  },
  {
   "cell_type": "markdown",
   "metadata": {},
   "source": [
    "# Excercises"
   ]
  },
  {
   "cell_type": "code",
   "execution_count": 63,
   "metadata": {},
   "outputs": [],
   "source": [
    "import fincal as fc #The financial calculator having all formulae\n",
    "import scipy as sp\n",
    "import numpy as np"
   ]
  },
  {
   "cell_type": "markdown",
   "metadata": {},
   "source": [
    "1: What is the present value of $206 received in 10 years with an annual\n",
    "discount rate of 2.5%?"
   ]
  },
  {
   "cell_type": "code",
   "execution_count": 12,
   "metadata": {},
   "outputs": [],
   "source": [
    "fv = 206\n",
    "n = 10\n",
    "rate = 2.5/100"
   ]
  },
  {
   "cell_type": "code",
   "execution_count": 13,
   "metadata": {},
   "outputs": [
    {
     "data": {
      "text/plain": [
       "160.92687075549983"
      ]
     },
     "execution_count": 13,
     "metadata": {},
     "output_type": "execute_result"
    }
   ],
   "source": [
    "pv = fv/(1+rate)**n\n",
    "pv"
   ]
  },
  {
   "cell_type": "markdown",
   "metadata": {},
   "source": [
    "2: What is the future value of perpetuity with a periodic annual payment of $1\n",
    "and a 2.4% annual discount rate?"
   ]
  },
  {
   "cell_type": "code",
   "execution_count": 14,
   "metadata": {},
   "outputs": [
    {
     "data": {
      "text/plain": [
       "41.666666666666664"
      ]
     },
     "execution_count": 14,
     "metadata": {},
     "output_type": "execute_result"
    }
   ],
   "source": [
    "pv = fc.pvPerpetuity(1,2.4/100)\n",
    "pv"
   ]
  },
  {
   "cell_type": "markdown",
   "metadata": {},
   "source": [
    "This means we need to invest $41.6 today to get the aforementioned perpetuity."
   ]
  },
  {
   "cell_type": "markdown",
   "metadata": {},
   "source": [
    "3:  For a normal project, its NPV is negatively correlated with the discount rate.\n",
    "Why"
   ]
  },
  {
   "cell_type": "markdown",
   "metadata": {},
   "source": [
    "The NPV(Net Present value) equals the difference between the present value of total outflows and the present value of total inflows. \n",
    "NPV = PV(Outflows) - PV(Inflows)\n",
    "The present value varies inversely with the Discount rate - PV = FV/(1+R)^n \n",
    "Hence the NPV which changes as the PV changes(directly), the NPV too is negatively correlated with the discount rate."
   ]
  },
  {
   "cell_type": "markdown",
   "metadata": {},
   "source": [
    "4: John deposits $5,000 in the bank for 25 years. If the annual rate is 0.25% per\n",
    "year, what is the future value?"
   ]
  },
  {
   "cell_type": "code",
   "execution_count": 15,
   "metadata": {},
   "outputs": [
    {
     "data": {
      "text/plain": [
       "5322.057184363162"
      ]
     },
     "execution_count": 15,
     "metadata": {},
     "output_type": "execute_result"
    }
   ],
   "source": [
    "pv = 5000\n",
    "n = 25\n",
    "rate = 0.25/100\n",
    "fv = pv*(1+rate)**n\n",
    "fv"
   ]
  },
  {
   "cell_type": "markdown",
   "metadata": {},
   "source": [
    "5: If the annual payment is $55 with 20 years remaining, what is the present\n",
    "value if the annual discount rate is 5.41%, compounded semi-annually?"
   ]
  },
  {
   "cell_type": "code",
   "execution_count": 35,
   "metadata": {},
   "outputs": [
    {
     "data": {
      "text/plain": [
       "1334.183564990531"
      ]
     },
     "execution_count": 35,
     "metadata": {},
     "output_type": "execute_result"
    }
   ],
   "source": [
    "c = 55\n",
    "n = 40\n",
    "rate = 5.41/200\n",
    "pv = fc.pvAnnuity(c,n,rate)\n",
    "pv"
   ]
  },
  {
   "cell_type": "markdown",
   "metadata": {},
   "source": [
    "6: If Mary plans to have $2,400 by the end of year 5, how much does she have to\n",
    "save each year if the corresponding annual rate is 3.12%?"
   ]
  },
  {
   "cell_type": "code",
   "execution_count": 18,
   "metadata": {},
   "outputs": [
    {
     "data": {
      "text/plain": [
       "-525.8478442817194"
      ]
     },
     "execution_count": 18,
     "metadata": {},
     "output_type": "execute_result"
    }
   ],
   "source": [
    "pmt = sp.pmt(3.12/100,5,2400)\n",
    "pmt"
   ]
  },
  {
   "cell_type": "code",
   "execution_count": 19,
   "metadata": {},
   "outputs": [
    {
     "data": {
      "text/plain": [
       "2058.243345571803"
      ]
     },
     "execution_count": 19,
     "metadata": {},
     "output_type": "execute_result"
    }
   ],
   "source": [
    "pv = 2400/(1+3.12/100)**5\n",
    "pv"
   ]
  },
  {
   "cell_type": "code",
   "execution_count": 20,
   "metadata": {},
   "outputs": [
    {
     "data": {
      "text/plain": [
       "2399.9961466493614"
      ]
     },
     "execution_count": 20,
     "metadata": {},
     "output_type": "execute_result"
    }
   ],
   "source": [
    "pv = fc.pvAnnuity(525.847,5,3.12/100)\n",
    "pv"
   ]
  },
  {
   "cell_type": "markdown",
   "metadata": {},
   "source": [
    "7: Why have we got a negative number of periods in the following code\n",
    ">import scipy as sp\n",
    ">sp.nper(0.012,200,5000,0)\n",
    ">-21.99461003591637"
   ]
  },
  {
   "cell_type": "code",
   "execution_count": 21,
   "metadata": {},
   "outputs": [
    {
     "name": "stdout",
     "output_type": "stream",
     "text": [
      "Help on function nper in module numpy.lib.financial:\n",
      "\n",
      "nper(rate, pmt, pv, fv=0, when='end')\n",
      "    Compute the number of periodic payments.\n",
      "    \n",
      "    :class:`decimal.Decimal` type is not supported.\n",
      "    \n",
      "    Parameters\n",
      "    ----------\n",
      "    rate : array_like\n",
      "        Rate of interest (per period)\n",
      "    pmt : array_like\n",
      "        Payment\n",
      "    pv : array_like\n",
      "        Present value\n",
      "    fv : array_like, optional\n",
      "        Future value\n",
      "    when : {{'begin', 1}, {'end', 0}}, {string, int}, optional\n",
      "        When payments are due ('begin' (1) or 'end' (0))\n",
      "    \n",
      "    Notes\n",
      "    -----\n",
      "    The number of periods ``nper`` is computed by solving the equation::\n",
      "    \n",
      "     fv + pv*(1+rate)**nper + pmt*(1+rate*when)/rate*((1+rate)**nper-1) = 0\n",
      "    \n",
      "    but if ``rate = 0`` then::\n",
      "    \n",
      "     fv + pv + pmt*nper = 0\n",
      "    \n",
      "    Examples\n",
      "    --------\n",
      "    If you only had $150/month to pay towards the loan, how long would it take\n",
      "    to pay-off a loan of $8,000 at 7% annual interest?\n",
      "    \n",
      "    >>> print(round(np.nper(0.07/12, -150, 8000), 5))\n",
      "    64.07335\n",
      "    \n",
      "    So, over 64 months would be required to pay off the loan.\n",
      "    \n",
      "    The same analysis could be done with several different interest rates\n",
      "    and/or payments and/or total amounts to produce an entire table.\n",
      "    \n",
      "    >>> np.nper(*(np.ogrid[0.07/12: 0.08/12: 0.01/12,\n",
      "    ...                    -150   : -99     : 50    ,\n",
      "    ...                    8000   : 9001    : 1000]))\n",
      "    array([[[  64.07334877,   74.06368256],\n",
      "            [ 108.07548412,  127.99022654]],\n",
      "           [[  66.12443902,   76.87897353],\n",
      "            [ 114.70165583,  137.90124779]]])\n",
      "\n"
     ]
    }
   ],
   "source": [
    "help(sp.nper)"
   ]
  },
  {
   "cell_type": "markdown",
   "metadata": {},
   "source": [
    "because the input parameter (payment) is positive indicating that instead of paying we are recieving $200 each period and hence 21 years ago we had 5000 dollars! Hence the payment parameter should be negative if paying money"
   ]
  },
  {
   "cell_type": "markdown",
   "metadata": {},
   "source": [
    "8: If a firm's earnings per share grows from $2 to $4 over a 9-year period (the\n",
    "total growth is 100%), what is its annual growth rate?"
   ]
  },
  {
   "cell_type": "code",
   "execution_count": 25,
   "metadata": {},
   "outputs": [
    {
     "data": {
      "text/plain": [
       "11"
      ]
     },
     "execution_count": 25,
     "metadata": {},
     "output_type": "execute_result"
    }
   ],
   "source": [
    "rate = 100/9\n",
    "round(rate)"
   ]
  },
  {
   "cell_type": "markdown",
   "metadata": {},
   "source": [
    "9: A project contributes cash inflows of $5,000 and $8,000 at the end of the first\n",
    "and second years. The initial cost is $3,000. The appropriate discount rates\n",
    "are 10% and 12% for the first and the second years respectively. What is the\n",
    "NPV of the project?"
   ]
  },
  {
   "cell_type": "code",
   "execution_count": 34,
   "metadata": {},
   "outputs": [
    {
     "data": {
      "text/plain": [
       "7923.005565862707"
      ]
     },
     "execution_count": 34,
     "metadata": {},
     "output_type": "execute_result"
    }
   ],
   "source": [
    "npv = sp.npv(np.array([0,0.1,0.12]),[-3000,5000,8000])\n",
    "npv"
   ]
  },
  {
   "cell_type": "code",
   "execution_count": 33,
   "metadata": {},
   "outputs": [
    {
     "name": "stdout",
     "output_type": "stream",
     "text": [
      "Help on function npv in module numpy.lib.financial:\n",
      "\n",
      "npv(rate, values)\n",
      "    Returns the NPV (Net Present Value) of a cash flow series.\n",
      "    \n",
      "    Parameters\n",
      "    ----------\n",
      "    rate : scalar\n",
      "        The discount rate.\n",
      "    values : array_like, shape(M, )\n",
      "        The values of the time series of cash flows.  The (fixed) time\n",
      "        interval between cash flow \"events\" must be the same as that for\n",
      "        which `rate` is given (i.e., if `rate` is per year, then precisely\n",
      "        a year is understood to elapse between each cash flow event).  By\n",
      "        convention, investments or \"deposits\" are negative, income or\n",
      "        \"withdrawals\" are positive; `values` must begin with the initial\n",
      "        investment, thus `values[0]` will typically be negative.\n",
      "    \n",
      "    Returns\n",
      "    -------\n",
      "    out : float\n",
      "        The NPV of the input cash flow series `values` at the discount\n",
      "        `rate`.\n",
      "    \n",
      "    Notes\n",
      "    -----\n",
      "    Returns the result of: [G]_\n",
      "    \n",
      "    .. math :: \\sum_{t=0}^{M-1}{\\frac{values_t}{(1+rate)^{t}}}\n",
      "    \n",
      "    References\n",
      "    ----------\n",
      "    .. [G] L. J. Gitman, \"Principles of Managerial Finance, Brief,\" 3rd ed.,\n",
      "       Addison-Wesley, 2003, pg. 346.\n",
      "    \n",
      "    Examples\n",
      "    --------\n",
      "    >>> np.npv(0.281,[-100, 39, 59, 55, 20])\n",
      "    -0.0084785916384548798\n",
      "    \n",
      "    (Compare with the Example given for numpy.lib.financial.irr)\n",
      "\n"
     ]
    }
   ],
   "source": []
  },
  {
   "cell_type": "markdown",
   "metadata": {},
   "source": [
    "10: Firm A will issue new bonds with annual coupon payment of $80 and a face\n",
    "value of $1,000. Interest payments are made semi-annually, and the bond\n",
    "matures in 2 years. The spot interest rate for the first year is 10%. At the end\n",
    "of the first year, the 1-year spot rate is expected to be 12%:\n",
    "°° What is the present value of the bond?\n",
    "°° What is the lump sum you are willing to accept at the end of the\n",
    "second year?"
   ]
  },
  {
   "cell_type": "code",
   "execution_count": 46,
   "metadata": {},
   "outputs": [
    {
     "data": {
      "text/plain": [
       "(72.56235827664399, -64.58024054525096)"
      ]
     },
     "execution_count": 46,
     "metadata": {},
     "output_type": "execute_result"
    }
   ],
   "source": [
    "rate_first = 0.1/2\n",
    "rate_second = 0.12/2\n",
    "pv_first = sp.pv(rate_first,2,0,-80)\n",
    "pv_second = sp.pv(rate_second,2,0,pv_first)\n",
    "pv_first, pv_second"
   ]
  },
  {
   "cell_type": "markdown",
   "metadata": {},
   "source": [
    "Peter's rich uncle has promised him a payment of $4,000 if he completes\n",
    "college in four years. Richard has just finished a very difficult sophomore\n",
    "(second) year, including taking several finance courses. Richard would very\n",
    "much like to take a long vacation. The appropriate discount rate is 10%\n",
    "compounded semi-annually. What is value that Peter would be giving up\n",
    "today if he took his vacation?"
   ]
  },
  {
   "cell_type": "code",
   "execution_count": 44,
   "metadata": {},
   "outputs": [
    {
     "data": {
      "text/plain": [
       "-3290.8098991675274"
      ]
     },
     "execution_count": 44,
     "metadata": {},
     "output_type": "execute_result"
    }
   ],
   "source": [
    "pv = sp.pv(0.05,4,0,4000)\n",
    "pv"
   ]
  },
  {
   "cell_type": "raw",
   "metadata": {},
   "source": [
    "Today, you have $5,000 to invest and your investment horizon is 25 years.\n",
    "You are offered an investment plan that will pay you 6 percent per year for\n",
    "the next 10 years and 9 percent per year for the last 15 years. How much will\n",
    "you have at the end of the 25 years? What is your average annual percentage\n",
    "return?"
   ]
  },
  {
   "cell_type": "code",
   "execution_count": 48,
   "metadata": {},
   "outputs": [
    {
     "data": {
      "text/plain": [
       "8954.238482714272"
      ]
     },
     "execution_count": 48,
     "metadata": {},
     "output_type": "execute_result"
    }
   ],
   "source": [
    "fv_10 = sp.fv(0.06,10,0,-5000)\n",
    "fv_10"
   ]
  },
  {
   "cell_type": "code",
   "execution_count": 49,
   "metadata": {},
   "outputs": [
    {
     "data": {
      "text/plain": [
       "18212.412298437623"
      ]
     },
     "execution_count": 49,
     "metadata": {},
     "output_type": "execute_result"
    }
   ],
   "source": [
    "fv_15 = sp.fv(0.09,15,0,-5000)\n",
    "fv_15"
   ]
  },
  {
   "cell_type": "code",
   "execution_count": 50,
   "metadata": {},
   "outputs": [
    {
     "data": {
      "text/plain": [
       "27166.650781151897"
      ]
     },
     "execution_count": 50,
     "metadata": {},
     "output_type": "execute_result"
    }
   ],
   "source": [
    "fv_25 = fv_10 + fv_15\n",
    "fv_25"
   ]
  },
  {
   "cell_type": "code",
   "execution_count": 52,
   "metadata": {},
   "outputs": [
    {
     "data": {
      "text/plain": [
       "443.33301562303797"
      ]
     },
     "execution_count": 52,
     "metadata": {},
     "output_type": "execute_result"
    }
   ],
   "source": [
    "returns = (fv_25 - 5000)\n",
    "ret_pct = (returns/5000)*100\n",
    "ret_pct"
   ]
  },
  {
   "cell_type": "code",
   "execution_count": 53,
   "metadata": {},
   "outputs": [
    {
     "data": {
      "text/plain": [
       "17.733320624921518"
      ]
     },
     "execution_count": 53,
     "metadata": {},
     "output_type": "execute_result"
    }
   ],
   "source": [
    "avg_annual_ret = ret_pct/25\n",
    "avg_annual_ret"
   ]
  },
  {
   "cell_type": "raw",
   "metadata": {},
   "source": [
    "Write a Python program to estimate payback period. For example, the initial\n",
    "investment is $256, and the expected future cash inflows in the next 7 years\n",
    "will be $34, $44, $55, $67, $92, $70, and $50. What is the project's payback\n",
    "period in years?"
   ]
  },
  {
   "cell_type": "code",
   "execution_count": 60,
   "metadata": {},
   "outputs": [],
   "source": []
  },
  {
   "cell_type": "code",
   "execution_count": 64,
   "metadata": {},
   "outputs": [
    {
     "ename": "AttributeError",
     "evalue": "module 'fincal' has no attribute 'payback'",
     "output_type": "error",
     "traceback": [
      "\u001b[1;31m---------------------------------------------------------------------------\u001b[0m",
      "\u001b[1;31mAttributeError\u001b[0m                            Traceback (most recent call last)",
      "\u001b[1;32m<ipython-input-64-03af71b1e6be>\u001b[0m in \u001b[0;36m<module>\u001b[1;34m()\u001b[0m\n\u001b[0;32m      1\u001b[0m \u001b[0minflows\u001b[0m \u001b[1;33m=\u001b[0m \u001b[1;33m[\u001b[0m\u001b[1;36m34\u001b[0m\u001b[1;33m,\u001b[0m\u001b[1;36m44\u001b[0m\u001b[1;33m,\u001b[0m\u001b[1;36m55\u001b[0m\u001b[1;33m,\u001b[0m\u001b[1;36m67\u001b[0m\u001b[1;33m,\u001b[0m\u001b[1;36m92\u001b[0m\u001b[1;33m,\u001b[0m\u001b[1;36m70\u001b[0m\u001b[1;33m,\u001b[0m\u001b[1;36m50\u001b[0m\u001b[1;33m]\u001b[0m\u001b[1;33m\u001b[0m\u001b[0m\n\u001b[0;32m      2\u001b[0m \u001b[0moutflow\u001b[0m \u001b[1;33m=\u001b[0m \u001b[1;36m256\u001b[0m\u001b[1;33m\u001b[0m\u001b[0m\n\u001b[1;32m----> 3\u001b[1;33m \u001b[0mpayback_period_years\u001b[0m \u001b[1;33m=\u001b[0m \u001b[0mfc\u001b[0m\u001b[1;33m.\u001b[0m\u001b[0mpayback\u001b[0m\u001b[1;33m(\u001b[0m\u001b[0moutflow\u001b[0m\u001b[1;33m,\u001b[0m\u001b[0minflows\u001b[0m\u001b[1;33m)\u001b[0m\u001b[1;33m\u001b[0m\u001b[0m\n\u001b[0m\u001b[0;32m      4\u001b[0m \u001b[0mpayback_period_years\u001b[0m\u001b[1;33m\u001b[0m\u001b[0m\n",
      "\u001b[1;31mAttributeError\u001b[0m: module 'fincal' has no attribute 'payback'"
     ]
    }
   ],
   "source": [
    "inflows = [34,44,55,67,92,70,50]\n",
    "outflow = 256\n",
    "payback_period_years = fc.payback(outflow,inflows)\n",
    "payback_period_years"
   ]
  },
  {
   "cell_type": "code",
   "execution_count": null,
   "metadata": {},
   "outputs": [],
   "source": []
  }
 ],
 "metadata": {
  "kernelspec": {
   "display_name": "Python 3",
   "language": "python",
   "name": "python3"
  },
  "language_info": {
   "codemirror_mode": {
    "name": "ipython",
    "version": 3
   },
   "file_extension": ".py",
   "mimetype": "text/x-python",
   "name": "python",
   "nbconvert_exporter": "python",
   "pygments_lexer": "ipython3",
   "version": "3.6.5"
  }
 },
 "nbformat": 4,
 "nbformat_minor": 2
}
